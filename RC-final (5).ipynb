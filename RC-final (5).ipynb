{
 "cells": [
  {
   "cell_type": "code",
   "execution_count": 1,
   "id": "e47c2947-8b5a-45ed-9dc7-8ab46455b352",
   "metadata": {},
   "outputs": [],
   "source": [
    "import pandas as pd\n",
    "import numpy as np\n",
    "import seaborn as sns\n",
    "import matplotlib.pyplot as plt\n",
    "import random\n",
    "import math\n",
    "from tqdm import tqdm\n",
    "import pickle\n",
    "import numba"
   ]
  },
  {
   "cell_type": "code",
   "execution_count": 2,
   "id": "199c7637-28ca-4e3d-88e1-4093579abd72",
   "metadata": {},
   "outputs": [],
   "source": [
    "import pandas as pd\n",
    "import random\n",
    "\n",
    "class DataStructureForRecommendation:\n",
    "    def __init__(self, path):\n",
    "        self.ratings = pd.read_csv(path)\n",
    "        self.user_to_idx = {}\n",
    "        self.movie_to_idx = {}\n",
    "        self.idx_to_user = []\n",
    "        self.idx_to_movie = []\n",
    "        self.data_by_user_idx = []\n",
    "        self.data_by_movie_idx = []\n",
    "        \n",
    "        for index, user_id, movie_id, rating, timestamp in self.ratings.itertuples():\n",
    "            if user_id not in self.user_to_idx:\n",
    "                self.user_to_idx[user_id] = len(self.idx_to_user)\n",
    "                self.idx_to_user.append(user_id)\n",
    "                self.data_by_user_idx.append([])\n",
    "                \n",
    "            self.data_by_user_idx[self.user_to_idx[user_id]].append((movie_id, rating))\n",
    "            \n",
    "            if movie_id not in self.movie_to_idx:\n",
    "                self.movie_to_idx[movie_id] = len(self.idx_to_movie)\n",
    "                self.idx_to_movie.append(movie_id)\n",
    "                self.data_by_movie_idx.append([])\n",
    "                \n",
    "            self.data_by_movie_idx[self.movie_to_idx[movie_id]].append((user_id, rating))\n",
    "\n",
    "    def get_movie(self, movie_id):\n",
    "        return self.data_by_movie_idx[self.movie_to_idx[movie_id]]\n",
    "\n",
    "    def get_user(self, user_id):\n",
    "        return self.data_by_user_idx[self.user_to_idx[user_id]]\n",
    "\n",
    "    def get_all_users_list(self):\n",
    "        return self.data_by_user_idx\n",
    "\n",
    "    def get_all_movies_list(self):\n",
    "        return self.data_by_movie_idx\n",
    "\n",
    "    def get_user_from_index(self, user):\n",
    "        return self.user_to_idx\n",
    "\n",
    "    def get_movie_from_index(self, movie):\n",
    "        return self.movie_to_idx\n",
    "\n",
    "    def get_train_test_user(self):\n",
    "        data_by_users = self.data_by_user_idx\n",
    "        train_data = []\n",
    "        test_data = []\n",
    "        \n",
    "        for i in range(len(data_by_users)):\n",
    "            train_data.append([])\n",
    "            test_data.append([])\n",
    "            for j in range(len(data_by_users[i])):\n",
    "                ran = random.uniform(0, 1)\n",
    "                if ran >= 0.9:\n",
    "                    test_data[i].append(data_by_users[i][j])\n",
    "                else:\n",
    "                    train_data[i].append(data_by_users[i][j])\n",
    "                    \n",
    "        return train_data, test_data\n",
    "\n",
    "    def get_train_test_movies(self):\n",
    "        data_by_movies = self.data_by_movie_idx\n",
    "        train_data = []\n",
    "        test_data = []\n",
    "        \n",
    "        for i in range(len(data_by_movies)):\n",
    "            train_data.append([])\n",
    "            test_data.append([])\n",
    "            for j in range(len(data_by_movies[i])):\n",
    "                ran = random.uniform(0, 1)\n",
    "                if ran >= 0.9:\n",
    "                    test_data[i].append(data_by_movies[i][j])\n",
    "                else:\n",
    "                    train_data[i].append(data_by_movies[i][j])\n",
    "                    \n",
    "        return train_data, test_data\n"
   ]
  },
  {
   "cell_type": "code",
   "execution_count": 3,
   "id": "2bdf2df7-8d90-4515-a330-66d935f120c9",
   "metadata": {},
   "outputs": [],
   "source": [
    "dataset = DataStructureForRecommendation('/var/autofs/misc/home/omer/Downloads/ml-25m/ratings.csv')\n",
    "\n",
    "data_by_user = dataset.get_all_users_list()\n",
    "data_by_movie = dataset.get_all_movies_list()\n",
    "\n",
    "movie_train_data, movie_test_data = dataset.get_train_test_movies()\n",
    "user_train_data, user_test_data = dataset.get_train_test_user()\n",
    "\n",
    "movie_to_idx = dataset.get_movie_from_index(1)\n",
    "user_to_idx = dataset.get_user_from_index(1)\n"
   ]
  },
  {
   "cell_type": "markdown",
   "id": "4990e827-cf85-493d-ae0e-eeb6d9723855",
   "metadata": {},
   "source": [
    "Data preperation and understanding"
   ]
  },
  {
   "cell_type": "code",
   "execution_count": 4,
   "id": "679b8802-3ec3-4b56-9a5b-242618696c3e",
   "metadata": {},
   "outputs": [
    {
     "name": "stderr",
     "output_type": "stream",
     "text": [
      "/tmp/ipykernel_52990/2641420423.py:12: FutureWarning: pandas.value_counts is deprecated and will be removed in a future version. Use pd.Series(obj).value_counts() instead.\n",
      "  movie_degree = pd.value_counts(movie_degree)\n",
      "/tmp/ipykernel_52990/2641420423.py:12: FutureWarning: value_counts with argument that is not not a Series, Index, ExtensionArray, or np.ndarray is deprecated and will raise in a future version.\n",
      "  movie_degree = pd.value_counts(movie_degree)\n",
      "/tmp/ipykernel_52990/2641420423.py:13: FutureWarning: pandas.value_counts is deprecated and will be removed in a future version. Use pd.Series(obj).value_counts() instead.\n",
      "  user_degree = pd.value_counts(user_degree)\n",
      "/tmp/ipykernel_52990/2641420423.py:13: FutureWarning: value_counts with argument that is not not a Series, Index, ExtensionArray, or np.ndarray is deprecated and will raise in a future version.\n",
      "  user_degree = pd.value_counts(user_degree)\n"
     ]
    },
    {
     "data": {
      "image/png": "[encoded data removed]",
      "text/plain": [
       "<Figure size 640x480 with 1 Axes>"
      ]
     },
     "metadata": {},
     "output_type": "display_data"
    }
   ],
   "source": [
    "movielist_sorted = sorted(data_by_movie, key=len, reverse=True)\n",
    "userlist_sorted = sorted(data_by_user, key=len, reverse=True)\n",
    "\n",
    "user_degree = []\n",
    "for user in userlist_sorted:\n",
    "    user_degree.append(len(user))\n",
    "\n",
    "movie_degree = []\n",
    "for movie in movielist_sorted:\n",
    "    movie_degree.append(len(movie))\n",
    "\n",
    "movie_degree = pd.value_counts(movie_degree)\n",
    "user_degree = pd.value_counts(user_degree)\n",
    "\n",
    "fig, axes = plt.subplots()\n",
    "axes.set_xlabel('Degree')\n",
    "axes.set_ylabel('Frequency')\n",
    "axes.set_title('Degree Distribution for Movies')\n",
    "axes.plot(movie_degree)\n",
    "\n",
    "plt.savefig('movies_degree.svg')\n"
   ]
  },
  {
   "cell_type": "code",
   "execution_count": 5,
   "id": "9cb6c9af-3ff0-4131-bf41-421399975d19",
   "metadata": {},
   "outputs": [
    {
     "data": {
      "image/png": "[encoded data removed]",
      "text/plain": [
       "<Figure size 640x480 with 1 Axes>"
      ]
     },
     "metadata": {},
     "output_type": "display_data"
    }
   ],
   "source": [
    "x = movie_degree.index\n",
    "y = movie_degree.values\n",
    "\n",
    "fig, axes = plt.subplots()\n",
    "axes.scatter(np.log(x), np.log(y))\n",
    "axes.set_xlabel('log(Degree)')\n",
    "axes.set_ylabel('log(Frequency)')\n",
    "axes.set_title(\"Zipf's Law for Movies\")\n",
    "\n",
    "plt.savefig(\"movies_degree_log.svg\")\n"
   ]
  },
  {
   "cell_type": "code",
   "execution_count": 6,
   "id": "16c0a762-a1f0-4059-93fb-ac692e2f10cb",
   "metadata": {},
   "outputs": [
    {
     "data": {
      "image/png": "[encoded data removed]",
      "text/plain": [
       "<Figure size 640x480 with 1 Axes>"
      ]
     },
     "metadata": {},
     "output_type": "display_data"
    }
   ],
   "source": [
    "x = user_degree.index\n",
    "y = user_degree.values\n",
    "\n",
    "fig, axes = plt.subplots()\n",
    "axes.scatter(np.log(x), np.log(y))\n",
    "axes.set_xlabel('log(Degree)')\n",
    "axes.set_ylabel('log(Frequency)')\n",
    "axes.set_title(\"Zipf's Law for Users\")\n",
    "\n",
    "plt.savefig(\"users_degree_log.svg\")\n"
   ]
  },
  {
   "cell_type": "code",
   "execution_count": 7,
   "id": "1548a642-87af-4fc6-be32-b72b03414601",
   "metadata": {},
   "outputs": [
    {
     "data": {
      "image/png": "[encoded data removed]",
      "text/plain": [
       "<Figure size 1000x600 with 1 Axes>"
      ]
     },
     "metadata": {},
     "output_type": "display_data"
    }
   ],
   "source": [
    "ratings_count = dataset.ratings['rating'].value_counts()\n",
    "\n",
    "plt.figure(figsize=(10, 6))\n",
    "plt.bar(ratings_count.index, ratings_count.values)\n",
    "plt.xlabel('Rating')\n",
    "plt.ylabel('Count')\n",
    "plt.title('Distribution of Ratings')\n",
    "\n",
    "plt.savefig(\"dist_of_rating.svg\")\n",
    "plt.show()\n"
   ]
  },
  {
   "cell_type": "code",
   "execution_count": null,
   "id": "5b37c133-ed6a-4748-a2d2-10b78b709e8b",
   "metadata": {},
   "outputs": [],
   "source": [
    "movies = pd.read_csv(\"/var/autofs/misc/home/omer/Downloads/ml-25m/movies.csv\")\n",
    "ratings = dataset.ratings\n",
    "movies_and_ratings = ratings.merge(movies, on='movieId')\n",
    "\n",
    "drama_movies_ratings = movies_and_ratings['rating'].loc[movies_and_ratings['genres'] == 'Drama'].value_counts()\n",
    "\n",
    "plt.figure(figsize=(10, 6))\n",
    "plt.bar(drama_movies_ratings.index, drama_movies_ratings.values)\n",
    "plt.xlabel('Rating')\n",
    "plt.ylabel('Count')\n",
    "plt.title('Distribution of Drama Movies Ratings')\n",
    "\n",
    "plt.savefig(\"dist_of_drama_movies.svg\")\n",
    "plt.show()\n"
   ]
  },
  {
   "cell_type": "code",
   "execution_count": null,
   "id": "ea7ad40d-28b2-4b28-a289-8e72a71424ba",
   "metadata": {},
   "outputs": [],
   "source": [
    "comedy_movies_ratings = movies_and_ratings['rating'].loc[movies_and_ratings['genres'] == 'Comedy'].value_counts()\n",
    "\n",
    "plt.figure(figsize=(10, 6))\n",
    "plt.bar(comedy_movies_ratings.index, comedy_movies_ratings.values)\n",
    "plt.xlabel('Rating')\n",
    "plt.ylabel('Count')\n",
    "plt.title('Distribution of Comedy Movies Ratings')\n",
    "\n",
    "plt.savefig(\"dist_of_comedy_movies.svg\")\n",
    "plt.show()\n"
   ]
  },
  {
   "cell_type": "markdown",
   "id": "f257b426-f43e-4dd0-861c-6f3396fdfbb6",
   "metadata": {},
   "source": [
    "ALS with biases only"
   ]
  },
  {
   "cell_type": "code",
   "execution_count": 12,
   "id": "90cd6650-b403-454a-b4d6-6ae98d26bb0d",
   "metadata": {},
   "outputs": [],
   "source": [
    "def calculate_bias(bias_type):\n",
    "    if bias_type == \"user\":\n",
    "        for i in range(len(user_train_data)):\n",
    "            bias_sum = 0\n",
    "            item_counter = 0\n",
    "            for j in range(len(user_train_data[i])):\n",
    "                if user_train_data[i][j] == ():\n",
    "                    continue\n",
    "\n",
    "                movie_id = user_train_data[i][j][0]\n",
    "                actual_rating = user_train_data[i][j][1]\n",
    "                movie_index = movie_to_idx[movie_id]\n",
    "                bias_sum += lambd * (actual_rating - movies_biases[movie_index])\n",
    "                item_counter += 1\n",
    "\n",
    "            if item_counter > 0:\n",
    "                bias = bias_sum / ((lambd * item_counter) + gamma)\n",
    "                users_biases[i] = bias\n",
    "\n",
    "        return users_biases\n",
    "    else:\n",
    "        for i in range(len(movie_train_data)):\n",
    "            bias_sum = 0\n",
    "            item_counter = 0\n",
    "            for j in range(len(movie_train_data[i])):\n",
    "                if movie_train_data[i][j] == ():\n",
    "                    continue\n",
    "\n",
    "                user_id = movie_train_data[i][j][0]\n",
    "                actual_rating = movie_train_data[i][j][1]\n",
    "                user_index = user_to_idx[user_id]\n",
    "\n",
    "                bias_sum += lambd * (actual_rating - users_biases[user_index])\n",
    "                item_counter += 1\n",
    "\n",
    "            if item_counter > 0:\n",
    "                bias = bias_sum / ((lambd * item_counter) + gamma)\n",
    "                movies_biases[i] = bias\n",
    "\n",
    "        return movies_biases\n",
    "\n",
    "\n",
    "def calculate_loss():\n",
    "    loss = 0\n",
    "    n = 0\n",
    "\n",
    "    for i in range(len(user_train_data)):\n",
    "        for j in range(len(user_train_data[i])):\n",
    "            if user_train_data[i][j] == ():\n",
    "                continue\n",
    "\n",
    "            movie_id = user_train_data[i][j][0]\n",
    "            actual_rating = user_train_data[i][j][1]\n",
    "            movie_index = movie_to_idx[movie_id]\n",
    "\n",
    "            predicted_rating = users_biases[i] + movies_biases[movie_index]\n",
    "            error = actual_rating - predicted_rating\n",
    "            loss += error ** 2\n",
    "            n += 1\n",
    "\n",
    "    return loss / n\n",
    "\n",
    "\n",
    "def calculate_loss_test():\n",
    "    loss = 0\n",
    "    n = 0\n",
    "\n",
    "    for i in range(len(user_test_data)):\n",
    "        for j in range(len(user_test_data[i])):\n",
    "            if user_test_data[i][j] == ():\n",
    "                continue\n",
    "\n",
    "            movie_id = user_test_data[i][j][0]\n",
    "            actual_rating = user_test_data[i][j][1]\n",
    "            movie_index = movie_to_idx[movie_id]\n",
    "\n",
    "            predicted_rating = users_biases[i] + movies_biases[movie_index]\n",
    "            error = actual_rating - predicted_rating\n",
    "            loss += error ** 2\n",
    "            n += 1\n",
    "\n",
    "    return loss / n\n",
    "\n",
    "\n",
    "def calculate_rmsq_test():\n",
    "    rmsq = 0\n",
    "    n = 0\n",
    "\n",
    "    for i in range(len(user_test_data)):\n",
    "        for j in range(len(user_test_data[i])):\n",
    "            if user_test_data[i][j] == ():\n",
    "                continue\n",
    "\n",
    "            movie_id = user_test_data[i][j][0]\n",
    "            movie_index = movie_to_idx[movie_id]\n",
    "            actual_rating = user_test_data[i][j][1]\n",
    "            predicted_rating = users_biases[i] + movies_biases[movie_index]\n",
    "\n",
    "            error = actual_rating - predicted_rating\n",
    "            rmsq += error ** 2\n",
    "            n += 1\n",
    "\n",
    "    rmsq = np.sqrt(rmsq / n)\n",
    "    return n, rmsq\n",
    "\n",
    "\n",
    "def calculate_rmsq():\n",
    "    rmsq = 0\n",
    "    n = 0\n",
    "\n",
    "    for i in range(len(user_train_data)):\n",
    "        for j in range(len(user_train_data[i])):\n",
    "            if user_train_data[i][j] == ():\n",
    "                continue\n",
    "\n",
    "            movie_id = user_train_data[i][j][0]\n",
    "            movie_index = movie_to_idx[movie_id]\n",
    "            actual_rating = user_train_data[i][j][1]\n",
    "            predicted_rating = users_biases[i] + movies_biases[movie_index]\n",
    "\n",
    "            error = actual_rating - predicted_rating\n",
    "            rmsq += error ** 2\n",
    "            n += 1\n",
    "\n",
    "    rmsq = np.sqrt(rmsq / n)\n",
    "    return n, rmsq\n"
   ]
  },
  {
   "cell_type": "code",
   "execution_count": 16,
   "id": "84d7a9fb-b231-43aa-b0e6-17643e2678b1",
   "metadata": {},
   "outputs": [
    {
     "name": "stderr",
     "output_type": "stream",
     "text": [
      "  0%|                                                    | 0/10 [00:00<?, ?it/s]"
     ]
    },
    {
     "name": "stdout",
     "output_type": "stream",
     "text": [
      "end of user bias\n",
      "end of movie bias\n",
      "end of loss train\n",
      "end of rmsq train\n",
      "end of loss test\n"
     ]
    },
    {
     "name": "stderr",
     "output_type": "stream",
     "text": [
      " 10%|████▍                                       | 1/10 [00:36<05:27, 36.39s/it]"
     ]
    },
    {
     "name": "stdout",
     "output_type": "stream",
     "text": [
      "epoch 0 : loss train 0.7490626154156674, loss test 0.7603320760513548, rmsq 0.8654840353326383, rmsq test 0.8719702265853776\n",
      "end of user bias\n",
      "end of movie bias\n",
      "end of loss train\n",
      "end of rmsq train\n",
      "end of loss test\n"
     ]
    },
    {
     "name": "stderr",
     "output_type": "stream",
     "text": [
      " 20%|████████▊                                   | 2/10 [01:05<04:18, 32.36s/it]"
     ]
    },
    {
     "name": "stdout",
     "output_type": "stream",
     "text": [
      "epoch 1 : loss train 0.7251091694905598, loss test 0.7362752768306642, rmsq 0.8515334224154445, rmsq test 0.8580648441875848\n",
      "end of user bias\n",
      "end of movie bias\n",
      "end of loss train\n",
      "end of rmsq train\n",
      "end of loss test\n"
     ]
    },
    {
     "name": "stderr",
     "output_type": "stream",
     "text": [
      " 30%|█████████████▏                              | 3/10 [01:36<03:41, 31.58s/it]"
     ]
    },
    {
     "name": "stdout",
     "output_type": "stream",
     "text": [
      "epoch 2 : loss train 0.7242340291966131, loss test 0.7354184954091985, rmsq 0.851019405887206, rmsq test 0.8575654467206562\n",
      "end of user bias\n",
      "end of movie bias\n",
      "end of loss train\n",
      "end of rmsq train\n",
      "end of loss test\n"
     ]
    },
    {
     "name": "stderr",
     "output_type": "stream",
     "text": [
      " 40%|█████████████████▌                          | 4/10 [02:04<03:01, 30.28s/it]"
     ]
    },
    {
     "name": "stdout",
     "output_type": "stream",
     "text": [
      "epoch 3 : loss train 0.7241689853010441, loss test 0.7353552970632544, rmsq 0.8509811897457218, rmsq test 0.8575285983938112\n",
      "end of user bias\n",
      "end of movie bias\n",
      "end of loss train\n",
      "end of rmsq train\n",
      "end of loss test\n"
     ]
    },
    {
     "name": "stderr",
     "output_type": "stream",
     "text": [
      " 50%|██████████████████████                      | 5/10 [02:34<02:30, 30.05s/it]"
     ]
    },
    {
     "name": "stdout",
     "output_type": "stream",
     "text": [
      "epoch 4 : loss train 0.7241321515278069, loss test 0.7353171348429723, rmsq 0.8509595475272645, rmsq test 0.8575063468237261\n",
      "end of user bias\n",
      "end of movie bias\n",
      "end of loss train\n",
      "end of rmsq train\n",
      "end of loss test\n"
     ]
    },
    {
     "name": "stderr",
     "output_type": "stream",
     "text": [
      " 60%|██████████████████████████▍                 | 6/10 [03:04<01:59, 29.95s/it]"
     ]
    },
    {
     "name": "stdout",
     "output_type": "stream",
     "text": [
      "epoch 5 : loss train 0.7241028070087583, loss test 0.7352865857216361, rmsq 0.8509423053349494, rmsq test 0.8574885338718158\n",
      "end of user bias\n",
      "end of movie bias\n",
      "end of loss train\n",
      "end of rmsq train\n",
      "end of loss test\n"
     ]
    },
    {
     "name": "stderr",
     "output_type": "stream",
     "text": [
      " 70%|██████████████████████████████▊             | 7/10 [03:34<01:29, 29.90s/it]"
     ]
    },
    {
     "name": "stdout",
     "output_type": "stream",
     "text": [
      "epoch 6 : loss train 0.7240787340387173, loss test 0.7352617233900965, rmsq 0.8509281603277196, rmsq test 0.8574740365690944\n",
      "end of user bias\n",
      "end of movie bias\n",
      "end of loss train\n",
      "end of rmsq train\n",
      "end of loss test\n"
     ]
    },
    {
     "name": "stderr",
     "output_type": "stream",
     "text": [
      " 80%|███████████████████████████████████▏        | 8/10 [04:03<00:59, 29.78s/it]"
     ]
    },
    {
     "name": "stdout",
     "output_type": "stream",
     "text": [
      "epoch 7 : loss train 0.7240578268318305, loss test 0.7352403007394817, rmsq 0.8509158752966303, rmsq test 0.8574615447584117\n",
      "end of user bias\n",
      "end of movie bias\n",
      "end of loss train\n",
      "end of rmsq train\n",
      "end of loss test\n"
     ]
    },
    {
     "name": "stderr",
     "output_type": "stream",
     "text": [
      " 90%|███████████████████████████████████████▌    | 9/10 [04:32<00:29, 29.62s/it]"
     ]
    },
    {
     "name": "stdout",
     "output_type": "stream",
     "text": [
      "epoch 8 : loss train 0.7240388217340682, loss test 0.7352209316051793, rmsq 0.8509047077869931, rmsq test 0.8574502502216553\n",
      "end of user bias\n",
      "end of movie bias\n",
      "end of loss train\n",
      "end of rmsq train\n",
      "end of loss test\n"
     ]
    },
    {
     "name": "stderr",
     "output_type": "stream",
     "text": [
      "100%|███████████████████████████████████████████| 10/10 [05:02<00:00, 30.21s/it]"
     ]
    },
    {
     "name": "stdout",
     "output_type": "stream",
     "text": [
      "epoch 9 : loss train 0.7240210830953328, loss test 0.735202911949733, rmsq 0.8508942843240473, rmsq test 0.8574397424599194\n"
     ]
    },
    {
     "name": "stderr",
     "output_type": "stream",
     "text": [
      "\n"
     ]
    }
   ],
   "source": [
    "loss_values_test = []\n",
    "rmsq_values_test = []\n",
    "loss_values = []\n",
    "rmsq_values = []\n",
    "\n",
    "repeat = 10\n",
    "lambd = 0.1\n",
    "gamma = 0.1\n",
    "\n",
    "users_biases = np.zeros(len(user_train_data))\n",
    "movies_biases = np.zeros(len(movie_train_data))\n",
    "\n",
    "for _ in tqdm(range(repeat)):\n",
    "    calculate_bias(bias_type=\"user\")\n",
    "    print(\"end of user bias\")\n",
    "\n",
    "    calculate_bias(bias_type=\"movie\")\n",
    "    print(\"end of movie bias\")\n",
    "\n",
    "    loss = calculate_loss()\n",
    "    loss_values.append((lambd / 2) * loss)\n",
    "\n",
    "    print(\"end of loss train\")\n",
    "\n",
    "    n, rmsq = calculate_rmsq()\n",
    "    rmsq_values.append(rmsq)\n",
    "\n",
    "    print(\"end of rmsq train\")\n",
    "\n",
    "    loss_test = calculate_loss_test()\n",
    "    loss_values_test.append((lambd / 2) * loss_test)\n",
    "\n",
    "    print(\"end of loss test\")\n",
    "\n",
    "    n_test, rmsq_test = calculate_rmsq_test()\n",
    "    rmsq_values_test.append(rmsq_test)\n",
    "\n",
    "    print(f'epoch {_} : loss train {loss}, loss test {loss_test}, rmsq {rmsq}, rmsq test {rmsq_test}')\n"
   ]
  },
  {
   "cell_type": "code",
   "execution_count": 17,
   "id": "6b2e07ae-1c09-4c91-9505-c681fdafe57d",
   "metadata": {},
   "outputs": [
    {
     "data": {
      "image/png": "[encoded data removed]",
      "text/plain": [
       "<Figure size 640x480 with 1 Axes>"
      ]
     },
     "metadata": {},
     "output_type": "display_data"
    }
   ],
   "source": [
    "plt.plot(loss_values, label=\"Train loss\")\n",
    "plt.plot(loss_values_test, label=\"Test loss\")\n",
    "plt.legend(['train loss', 'test loss'])\n",
    "plt.savefig('loss_without_factors.svg')\n"
   ]
  },
  {
   "cell_type": "code",
   "execution_count": 18,
   "id": "c9135752-dd22-42c3-8fec-8d7297704a2a",
   "metadata": {},
   "outputs": [
    {
     "data": {
      "image/png": "[encoded data removed]",
      "text/plain": [
       "<Figure size 640x480 with 1 Axes>"
      ]
     },
     "metadata": {},
     "output_type": "display_data"
    }
   ],
   "source": [
    "plt.plot(rmsq_values)\n",
    "plt.plot(rmsq_values_test)\n",
    "plt.legend(['train rmse', 'test rmse'])\n",
    "plt.savefig('rmse_without_factors.svg')\n"
   ]
  },
  {
   "cell_type": "markdown",
   "id": "e2b7fa52-a575-40a7-a0ce-82fec3cb6780",
   "metadata": {},
   "source": [
    "Hyper-parameter Selection"
   ]
  },
  {
   "cell_type": "code",
   "execution_count": null,
   "id": "6dd18065-6cb6-4f3c-af3c-0ad3bd124792",
   "metadata": {},
   "outputs": [],
   "source": [
    "lambda_values = [0.01, 0.1, 0.2, 0.5]\n",
    "gamma_values = [0.01, 0.1, 0.2]\n",
    "tau_values = [0.5, 1, 2]  \n",
    "\n",
    "best_rmse = float('inf')\n",
    "best_params = (None, None, None)  \n",
    "best_loss_values = []\n",
    "best_rmsq_values = []\n",
    "\n",
    "for lambd in lambda_values:\n",
    "    for gamma in gamma_values:\n",
    "        for tau in tau_values:\n",
    "            print(f'Training with λ={lambd}, γ={gamma}, τ={tau}')\n",
    "\n",
    "            loss_values_test = []\n",
    "            rmsq_values_test = []\n",
    "            loss_values = []\n",
    "            rmsq_values = []\n",
    "\n",
    "            users_biases = np.zeros(len(user_train_data))\n",
    "            movies_biases = np.zeros(len(movie_train_data))\n",
    "\n",
    "            for _ in tqdm(range(repeat)):\n",
    "                calculate_bias(bias_type=\"user\")\n",
    "                calculate_bias(bias_type=\"movie\")\n",
    "\n",
    "                loss = calculate_loss()\n",
    "                loss_values.append((lambd / 2) * loss)\n",
    "\n",
    "                n, rmsq = calculate_rmsq()\n",
    "                rmsq_values.append(rmsq)\n",
    "\n",
    "                loss_test = calculate_loss_test()\n",
    "                loss_values_test.append((lambd / 2) * loss_test)\n",
    "\n",
    "                n_test, rmsq_test = calculate_rmsq_test()\n",
    "                rmsq_values_test.append(rmsq_test)\n",
    "\n",
    "                print(f'epoch {_} : loss train {loss} , loss test {loss_test}  rmsq {rmsq}  rmsq test {rmsq_test} ')\n",
    "\n",
    "            avg_rmsq = np.mean(rmsq_values_test)\n",
    "\n",
    "            if avg_rmsq < best_rmse:\n",
    "                best_rmse = avg_rmsq\n",
    "                best_params = (lambd, gamma, tau) \n",
    "                best_loss_values = loss_values\n",
    "                best_rmsq_values = rmsq_values\n",
    "\n",
    "print(f'Best parameters: λ = {best_params[0]}, γ = {best_params[1]}, τ = {best_params[2]}, Average RMSE = {best_rmse}')\n"
   ]
  },
  {
   "cell_type": "code",
   "execution_count": null,
   "id": "92fdd237-4070-4172-8a83-77073dd8fd30",
   "metadata": {},
   "outputs": [],
   "source": [
    "K_values = [0, 2, 4, 8, 16, 32]\n",
    "\n",
    "best_rmse = float('inf')\n",
    "best_k = None\n",
    "rmse_results = []\n",
    "\n",
    "for K in K_values:\n",
    "    print(f'Training with K={K}')\n",
    "    \n",
    "    users_latent = np.random.normal(0, 1 / np.sqrt(K), size=(K, len(user_train_data)))\n",
    "    movies_latent = np.random.normal(0, 1 / np.sqrt(K), size=(K, len(movie_train_data)))\n",
    "\n",
    "    loss_values_test = []\n",
    "    rmsq_values_test = []\n",
    "    loss_values = []\n",
    "    rmsq_values = []\n",
    "\n",
    "    for _ in tqdm(range(repeat)):\n",
    "        calculate_bias(bias_type=\"user\")\n",
    "        calculate_bias(bias_type=\"movie\")\n",
    "\n",
    "        loss = calculate_loss()\n",
    "        loss_values.append((lambd / 2) * loss)\n",
    "\n",
    "        n, rmsq = calculate_rmsq()\n",
    "        rmsq_values.append(rmsq)\n",
    "\n",
    "        loss_test = calculate_loss_test()\n",
    "        loss_values_test.append((lambd / 2) * loss_test)\n",
    "\n",
    "        n_test, rmsq_test = calculate_rmsq_test()\n",
    "        rmsq_values_test.append(rmsq_test)\n",
    "\n",
    "    avg_rmsq = np.mean(rmsq_values_test)\n",
    "    rmse_results.append((K, avg_rmsq))\n",
    "\n",
    "    if avg_rmsq < best_rmse:\n",
    "        best_rmse = avg_rmsq\n",
    "        best_k = K\n",
    "\n",
    "print(f'Best K: {best_k}, with Average RMSE: {best_rmse}')\n",
    "\n",
    "import matplotlib.pyplot as plt\n",
    "\n",
    "ks, rmses = zip(*rmse_results)\n",
    "plt.plot(ks, rmses, marker='o')\n",
    "plt.xlabel('Number of Latent Dimensions (K)')\n",
    "plt.ylabel('Average RMSE')\n",
    "plt.title('RMSE vs Number of Latent Dimensions')\n",
    "plt.grid()\n",
    "plt.show()\n"
   ]
  },
  {
   "cell_type": "markdown",
   "id": "37fffc85-22f7-45ef-923c-3aa8437f8999",
   "metadata": {},
   "source": [
    "ALS with latent factors and biases"
   ]
  },
  {
   "cell_type": "code",
   "execution_count": null,
   "id": "0da9cea5-8051-4276-bd73-d4fa08857742",
   "metadata": {},
   "outputs": [
    {
     "name": "stderr",
     "output_type": "stream",
     "text": [
      "  0%|                                                    | 0/10 [00:00<?, ?it/s]"
     ]
    }
   ],
   "source": [
    "def calculate_bias(bias_type):\n",
    "    if bias_type == \"user\":\n",
    "        for i in range(len(user_train_data)):\n",
    "            bias_sum = 0\n",
    "            item_counter = 0\n",
    "            for j in range(len(user_train_data[i])):\n",
    "                if user_train_data[i][j] == ():\n",
    "                    continue\n",
    "\n",
    "                movie_id = user_train_data[i][j][0]\n",
    "                actual_rating = user_train_data[i][j][1]\n",
    "                movie_index = movie_to_idx[movie_id]\n",
    "                bias_sum += lambd * (\n",
    "                    actual_rating - (\n",
    "                        np.dot(np.transpose(users_latent[:, i]), movies_latent[:, movie_index]) +\n",
    "                        movies_biases[movie_index]\n",
    "                    )\n",
    "                )\n",
    "                item_counter += 1\n",
    "\n",
    "            if item_counter > 0:\n",
    "                bias = bias_sum / ((lambd * item_counter) + gamma)\n",
    "                users_biases[i] = bias\n",
    "\n",
    "        return users_biases\n",
    "\n",
    "    else:\n",
    "        for i in range(len(movie_train_data)):\n",
    "            bias_sum = 0\n",
    "            item_counter = 0\n",
    "            for j in range(len(movie_train_data[i])):\n",
    "                if movie_train_data[i][j] == ():\n",
    "                    continue\n",
    "\n",
    "                user_id = movie_train_data[i][j][0]\n",
    "                actual_rating = movie_train_data[i][j][1]\n",
    "                user_index = user_to_idx[user_id]\n",
    "\n",
    "                bias_sum += lambd * (\n",
    "                    actual_rating - (\n",
    "                        np.dot(np.transpose(movies_latent[:, i]), users_latent[:, user_index]) +\n",
    "                        users_biases[user_index]\n",
    "                    )\n",
    "                )\n",
    "                item_counter += 1\n",
    "\n",
    "            if item_counter > 0:\n",
    "                bias = bias_sum / ((lambd * item_counter) + gamma)\n",
    "                movies_biases[i] = bias\n",
    "\n",
    "        return movies_biases\n",
    "\n",
    "\n",
    "def calculate_loss():\n",
    "    loss = 0\n",
    "    n = 0\n",
    "\n",
    "    for i in range(len(user_train_data)):\n",
    "        for j in range(len(user_train_data[i])):\n",
    "            if user_train_data[i][j] == ():\n",
    "                continue\n",
    "\n",
    "            movie_id = user_train_data[i][j][0]\n",
    "            actual_rating = user_train_data[i][j][1]\n",
    "            movie_index = movie_to_idx[movie_id]\n",
    "\n",
    "            predicted_rating = (\n",
    "                np.dot(users_latent[:, i], np.transpose(movies_latent[:, movie_index])) +\n",
    "                users_biases[i] + movies_biases[movie_index]\n",
    "            )\n",
    "\n",
    "            error = actual_rating - predicted_rating\n",
    "            loss += error ** 2\n",
    "            n += 1\n",
    "            \n",
    "    return loss / n\n",
    "\n",
    "\n",
    "def calculate_loss_test():\n",
    "    loss = 0\n",
    "    n = 0\n",
    "\n",
    "    for i in range(len(user_test_data)):\n",
    "        for j in range(len(user_test_data[i])):\n",
    "            if user_test_data[i][j] == ():\n",
    "                continue\n",
    "\n",
    "            movie_id = user_test_data[i][j][0]\n",
    "            actual_rating = user_test_data[i][j][1]\n",
    "            movie_index = movie_to_idx[movie_id]\n",
    "\n",
    "            predicted_rating = (\n",
    "                np.dot(users_latent[:, i], np.transpose(movies_latent[:, movie_index])) +\n",
    "                users_biases[i] + movies_biases[movie_index]\n",
    "            )\n",
    "\n",
    "            error = actual_rating - predicted_rating\n",
    "            loss += error ** 2\n",
    "            n += 1\n",
    "\n",
    "    return loss / n\n",
    "\n",
    "\n",
    "def calculate_rmsq_test():\n",
    "    rmsq = 0\n",
    "    n = 0\n",
    "\n",
    "    for i in range(len(user_test_data)):\n",
    "        for j in range(len(user_test_data[i])):\n",
    "            if user_test_data[i][j] == ():\n",
    "                continue\n",
    "\n",
    "            movie_id = user_test_data[i][j][0]\n",
    "            movie_index = movie_to_idx[movie_id]\n",
    "            actual_rating = user_test_data[i][j][1]\n",
    "\n",
    "            predicted_rating = (\n",
    "                np.dot(users_latent[:, i], np.transpose(movies_latent[:, movie_index])) +\n",
    "                users_biases[i] + movies_biases[movie_index]\n",
    "            )\n",
    "\n",
    "            error = actual_rating - predicted_rating\n",
    "            rmsq += error ** 2\n",
    "            n += 1\n",
    "\n",
    "    rmsq = np.sqrt(rmsq / n)\n",
    "    return n, rmsq\n",
    "\n",
    "\n",
    "def calculate_rmsq():\n",
    "    rmsq = 0\n",
    "    n = 0\n",
    "\n",
    "    for i in range(len(user_train_data)):\n",
    "        for j in range(len(user_train_data[i])):\n",
    "            if user_train_data[i][j] == ():\n",
    "                continue\n",
    "\n",
    "            movie_id = user_train_data[i][j][0]\n",
    "            movie_index = movie_to_idx[movie_id]\n",
    "            actual_rating = user_train_data[i][j][1]\n",
    "\n",
    "            predicted_rating = (\n",
    "                np.dot(users_latent[:, i], np.transpose(movies_latent[:, movie_index])) +\n",
    "                users_biases[i] + movies_biases[movie_index]\n",
    "            )\n",
    "\n",
    "            error = actual_rating - predicted_rating\n",
    "            rmsq += error ** 2\n",
    "            n += 1\n",
    "\n",
    "    rmsq = np.sqrt(rmsq / n)\n",
    "    return n, rmsq\n",
    "\n",
    "\n",
    "def update_user_latent_factors():\n",
    "    for i in range(len(user_train_data)):\n",
    "        x = np.zeros(factors)\n",
    "        y = np.zeros((factors, factors))\n",
    "\n",
    "        for j in range(len(user_train_data[i])):\n",
    "            if user_train_data[i][j] == ():\n",
    "                continue\n",
    "\n",
    "            actual_rating = user_train_data[i][j][1]\n",
    "            movie_id = user_train_data[i][j][0]\n",
    "            movie_index = movie_to_idx[movie_id]\n",
    "            error = actual_rating - users_biases[i] - movies_biases[movie_index]\n",
    "            x += movies_latent[:, movie_index] * error\n",
    "            y += np.outer(movies_latent[:, movie_index], movies_latent[:, movie_index])\n",
    "\n",
    "        y += np.identity(factors) * taw  \n",
    "        users_latent[:, i] = np.matmul(np.linalg.inv(lambd * y), lambd * x)\n",
    "\n",
    "\n",
    "def update_movie_latent_factors():\n",
    "    for i in range(len(movie_train_data)):\n",
    "        x = np.zeros(factors)\n",
    "        y = np.zeros((factors, factors))\n",
    "\n",
    "        for j in range(len(movie_train_data[i])):\n",
    "            if movie_train_data[i][j] == ():\n",
    "                continue\n",
    "\n",
    "            user_id = movie_train_data[i][j][0]\n",
    "            user_index = user_to_idx[user_id]\n",
    "            r = movie_train_data[i][j][1]\n",
    "            error = r - movies_biases[i] - users_biases[user_index]\n",
    "            x += users_latent[:, user_index] * error\n",
    "            y += np.outer(users_latent[:, user_index], users_latent[:, user_index])\n",
    "\n",
    "        y += np.identity(factors) * taw  \n",
    "        movies_latent[:, i] = np.matmul(np.linalg.inv(lambd * y), lambd * x)\n",
    "\n",
    "\n",
    "loss_values_test = []\n",
    "rmsq_values_test = []\n",
    "loss_values = []\n",
    "rmsq_values = []\n",
    "\n",
    "repeat = 10\n",
    "lambd = 0.1\n",
    "gamma = 0.1\n",
    "taw = 1\n",
    "factors = 10\n",
    "\n",
    "users_latent = np.random.normal(0, 1 / math.sqrt(factors), size=(factors, 200948))\n",
    "movies_latent = np.random.normal(0, 1 / math.sqrt(factors), size=(factors, 84432))\n",
    "users_biases = np.zeros(len(user_train_data))\n",
    "movies_biases = np.zeros(len(movie_train_data))\n",
    "\n",
    "for _ in tqdm(range(repeat)):\n",
    "    calculate_bias(bias_type=\"user\")\n",
    "    print(\"end of user bias\")\n",
    "\n",
    "    update_user_latent_factors()\n",
    "    print(\"end of user latent\")\n",
    "\n",
    "    calculate_bias(bias_type=\"movie\")\n",
    "    print(\"end of movie bias\")\n",
    "\n",
    "    update_movie_latent_factors()\n",
    "    print(\"end of movie latent\")\n",
    "\n",
    "    loss = calculate_loss()\n",
    "    loss_values.append((lambd / 2) * loss)\n",
    "\n",
    "    print(\"end of loss train\")\n",
    "\n",
    "    n, rmsq = calculate_rmsq()\n",
    "    rmsq_values.append(rmsq)\n",
    "\n",
    "    print(\"end of rmsq train\")\n",
    "\n",
    "    loss_test = calculate_loss_test()\n",
    "    loss_values_test.append((lambd / 2) * loss_test)\n",
    "\n",
    "    print(\"end of loss test \")\n",
    "\n",
    "    n_test, rmsq_test = calculate_rmsq_test()\n",
    "    rmsq_values_test.append(rmsq_test)\n",
    "\n",
    "    print(f'epoch {_} : loss train {loss}, loss test {loss_test}, rmsq {rmsq}, rmsq test {rmsq_test}')\n"
   ]
  },
  {
   "cell_type": "code",
   "execution_count": null,
   "id": "e805aa09-9ad7-4c61-aa73-dc214c1bd6ec",
   "metadata": {},
   "outputs": [],
   "source": [
    "plt.plot(loss_values, label=\"Train loss\")\n",
    "plt.plot(loss_values_test, label=\"Test loss\")\n",
    "plt.legend(['train loss', 'test loss'])\n",
    "plt.savefig('loss.svg')\n"
   ]
  },
  {
   "cell_type": "code",
   "execution_count": null,
   "id": "b95c5dd6-9be6-408f-a7fa-92022aa5fa80",
   "metadata": {},
   "outputs": [],
   "source": [
    "plt.plot(rmsq_values)\n",
    "plt.plot(rmsq_values_test)\n",
    "plt.legend(['train rmse', 'test rmse'])\n",
    "plt.savefig('rmse.svg')\n"
   ]
  },
  {
   "cell_type": "markdown",
   "id": "ae5fd53d-4f90-4277-af0f-78450684aea1",
   "metadata": {},
   "source": [
    "Prediction"
   ]
  },
  {
   "cell_type": "code",
   "execution_count": null,
   "id": "ab75da2e-4fac-48d4-be7c-aa357044aec3",
   "metadata": {},
   "outputs": [],
   "source": [
    "movies = pd.read_csv(\"/var/autofs/misc/home/omer/Downloads/ml-25m/movies.csv\")\n",
    "movies.loc[movies[\"movieId\"] == 1]\n",
    "\n",
    "def calculate_dummy_user_bias(user_dummy, iterations, dummy_user_latent):\n",
    "    bias_sum = 0\n",
    "    item_counter = 0\n",
    "    for i in range(len(user_dummy)):\n",
    "        movie_id = user_dummy[i][0]\n",
    "        rating = user_dummy[i][1]\n",
    "        movie_index = movie_to_idx[movie_id]\n",
    "        \n",
    "        if iterations == 0:\n",
    "            bias_sum += lambd * (rating - movies_biases[movie_index])\n",
    "        else:\n",
    "            bias_sum += lambd * (rating - \n",
    "                (np.dot(np.transpose(dummy_user_latent), movies_latent[:, movie_index]) + \n",
    "                 movies_biases[movie_index]))\n",
    "        \n",
    "        item_counter += 1\n",
    "        \n",
    "    if item_counter > 0:\n",
    "        bias = bias_sum / ((lambd * item_counter) + gamma)\n",
    "        return bias\n",
    "\n",
    "def update_user_latent_dummy(dummy_user, dummy_user_bias):\n",
    "    x = np.zeros(factors)\n",
    "    y = np.zeros((factors, factors))\n",
    "    for j in range(len(dummy_user)):\n",
    "        actual_rating = dummy_user[j][1]\n",
    "        movie_id = dummy_user[j][0]\n",
    "        movie_index = movie_to_idx[movie_id]\n",
    "        error = actual_rating - dummy_user_bias - movies_biases[movie_index]\n",
    "        x += movies_latent[:, movie_index] * error\n",
    "        y += np.outer(np.transpose(movies_latent[:, movie_index]), movies_latent[:, movie_index])\n",
    "    \n",
    "    y += np.identity(factors) * taw  \n",
    "    return np.matmul(np.linalg.inv(lambd * y), lambd * x)\n"
   ]
  },
  {
   "cell_type": "code",
   "execution_count": null,
   "id": "7f12d179-9ad2-47aa-b654-589bde549465",
   "metadata": {},
   "outputs": [],
   "source": [
    "user_dummy = [(1, 4.0)]\n",
    "dummy_user_latent = np.zeros(factors)\n",
    "\n",
    "iterations = 5\n",
    "for _ in tqdm(range(iterations)):\n",
    "    dummy_user_bias = calculate_dummy_user_bias(user_dummy, _, dummy_user_latent)\n",
    "    dummy_user_latent = update_user_latent_dummy(user_dummy, dummy_user_bias)\n",
    "\n",
    "preds = []\n",
    "for i in range(len(movie_to_idx)):\n",
    "    preds.append(np.dot(np.transpose(dummy_user_latent), movies_latent[:, i]) + (0.05 * movies_biases[i]))\n",
    "\n",
    "pred_df = pd.DataFrame(preds, columns=[\"predictions\"])\n",
    "pred_df = pred_df.sort_values(\"predictions\", ascending=False)\n",
    "\n",
    "idx_to_movie = dataset.idx_to_movie\n",
    "best_match = list(pred_df.head(100).index)\n",
    "\n",
    "for i in range(10):\n",
    "    print(movies.loc[movies[\"movieId\"] == idx_to_movie[best_match[i]]])\n"
   ]
  },
  {
   "cell_type": "code",
   "execution_count": null,
   "id": "9e7600b2-23cd-4703-a6b6-1c468205c0c0",
   "metadata": {},
   "outputs": [],
   "source": [
    "movies.loc[movies['title'] == \"Harry Potter and the Chamber of Secrets (2002)\"]"
   ]
  },
  {
   "cell_type": "markdown",
   "id": "02a24043-50db-484d-b9d3-04959fbee2b6",
   "metadata": {},
   "source": [
    "visulaize movies latent factors "
   ]
  },
  {
   "cell_type": "code",
   "execution_count": null,
   "id": "fff3ee00-f3bb-4e7f-90f8-3e1dde02eac3",
   "metadata": {},
   "outputs": [],
   "source": [
    "from sklearn.decomposition import PCA\n",
    "\n",
    "\n",
    "pca = PCA(n_components=2)\n",
    "movie_latent_2d = pca.fit_transform(movies_latent.T)\n",
    "\n",
    "plt.figure(figsize=(10, 8))\n",
    "plt.scatter(movie_latent_2d[:, 0], movie_latent_2d[:, 1], marker='o')\n",
    "\n",
    "selected_indices = [4790,14813,359,5704]\n",
    "\n",
    "for i in selected_indices:\n",
    "    plt.annotate(movies.iloc[i]['title'], (movie_latent_2d[i, 0], movie_latent_2d[i, 1]), fontsize=8)\n",
    "\n",
    "plt.xlabel('Component 1')\n",
    "plt.ylabel('Component 2')\n",
    "plt.title('2D Projection of Movie Trait Vectors')\n",
    "plt.grid()\n",
    "plt.savefig('2D_movie_trait_vectors.svg')\n",
    "plt.show()\n"
   ]
  },
  {
   "cell_type": "markdown",
   "id": "275afe36-1d1b-4ec4-bf16-38a7a1926005",
   "metadata": {},
   "source": [
    "most and least polarizing movies "
   ]
  },
  {
   "cell_type": "code",
   "execution_count": null,
   "id": "ffec0f0c-f223-4faf-9584-9904393f4830",
   "metadata": {},
   "outputs": [],
   "source": [
    "\n",
    "ratings = dataset.ratings\n",
    "\n",
    "polarization = ratings.groupby('movieId')['rating'].agg(['mean', 'std', 'count']).reset_index()\n",
    "\n",
    "most_polarizing = polarization.sort_values(by='std', ascending=False).head(10)\n",
    "least_polarizing = polarization.sort_values(by='std', ascending=True).head(10)\n",
    "\n",
    "movies = pd.read_csv(\"/var/autofs/misc/home/omer/Downloads/ml-25m/movies.csv\")\n",
    "most_polarizing = most_polarizing.merge(movies, on='movieId')\n",
    "least_polarizing = least_polarizing.merge(movies, on='movieId')\n",
    "\n",
    "print(\"Most Polarizing Movies:\")\n",
    "print(most_polarizing[['title', 'mean', 'std', 'count']])\n",
    "\n",
    "print(\"\\nLeast Polarizing Movies:\")\n",
    "print(least_polarizing[['title', 'mean', 'std', 'count']])\n"
   ]
  },
  {
   "cell_type": "code",
   "execution_count": null,
   "id": "99ad710f-0195-480d-b22b-6f7433b3d263",
   "metadata": {},
   "outputs": [],
   "source": []
  }
 ],
 "metadata": {
  "kernelspec": {
   "display_name": "Python 3 (ipykernel)",
   "language": "python",
   "name": "python3"
  },
  "language_info": {
   "codemirror_mode": {
    "name": "ipython",
    "version": 3
   },
   "file_extension": ".py",
   "mimetype": "text/x-python",
   "name": "python",
   "nbconvert_exporter": "python",
   "pygments_lexer": "ipython3",
   "version": "3.11.2"
  }
 },
 "nbformat": 4,
 "nbformat_minor": 5
}
