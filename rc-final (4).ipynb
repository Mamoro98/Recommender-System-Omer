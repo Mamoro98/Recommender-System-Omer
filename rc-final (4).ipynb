{
 "cells": [
  {
   "cell_type": "markdown",
   "metadata": {},
   "source": [
    "**Preprocessing**"
   ]
  },
  {
   "cell_type": "code",
   "execution_count": 1,
   "metadata": {},
   "outputs": [],
   "source": [
    "import pandas as pd\n",
    "import numpy as np\n",
    "import seaborn as sns\n",
    "import matplotlib.pyplot as plt\n",
    "import random\n",
    "import math\n",
    "from tqdm import tqdm\n",
    "import pickle\n",
    "import numba"
   ]
  },
  {
   "cell_type": "code",
   "execution_count": 2,
   "metadata": {},
   "outputs": [],
   "source": [
    "class DataStructureForRecommendation:\n",
    "  def __init__(self,path):\n",
    "    self.ratings = pd.read_csv(path)\n",
    "    self.user_to_idx = {}\n",
    "    self.movie_to_idx = {}\n",
    "    self.idx_to_user = []\n",
    "    self.idx_to_movie = []\n",
    "    self.data_by_user_idx = []\n",
    "    self.data_by_movie_idx = []\n",
    "    for Index ,userId , movieId, rating, timestamp in self.ratings.itertuples():\n",
    "      if userId not in self.user_to_idx:\n",
    "        self.user_to_idx[userId] = len(self.idx_to_user)\n",
    "        self.idx_to_user.append(userId)\n",
    "        self.data_by_user_idx.append([])\n",
    "      self.data_by_user_idx[self.user_to_idx[userId]].append((movieId,rating))\n",
    "      if movieId not in self.movie_to_idx:\n",
    "        self.movie_to_idx[movieId] = len(self.idx_to_movie)\n",
    "        self.idx_to_movie.append(movieId)\n",
    "        self.data_by_movie_idx.append([])\n",
    "      self.data_by_movie_idx[self.movie_to_idx[movieId]].append((userId,rating))\n",
    "\n",
    "\n",
    "\n",
    "\n",
    "  def getmovie(self,movieid):\n",
    "    return self.data_by_movie_idx[self.movie_to_idx[movieid]]\n",
    "\n",
    "\n",
    "  def getuser(self,userid):\n",
    "    return self.data_by_user_idx[self.user_to_idx[userid]]\n",
    "\n",
    "  def getalluserslist(self):\n",
    "    return self.data_by_user_idx\n",
    "\n",
    "  def getallmovieslist(self):\n",
    "    return self.data_by_movie_idx\n",
    "\n",
    "  def getuserfromidex(self,user):\n",
    "    return self.user_to_idx\n",
    "\n",
    "  def getmoviefromidex(self,movie):\n",
    "    return self.movie_to_idx\n",
    "\n",
    "  def get_train_test_user(self):\n",
    "    data_by_users = self.data_by_user_idx\n",
    "    train_data = []\n",
    "    test_data = []\n",
    "    for i in range(len(data_by_user)):\n",
    "      train_data.append([])\n",
    "      test_data.append([])\n",
    "      for j in range(len(data_by_user[i])):\n",
    "        ran = random.uniform(0,1)\n",
    "        if ran >= 0.9:\n",
    "          test_data[i].append(data_by_user[i][j])\n",
    "        else:\n",
    "          train_data[i].append(data_by_user[i][j])\n",
    "    return train_data,test_data\n",
    "\n",
    "  def get_train_test_movies(self):\n",
    "    data_by_movie = self.data_by_movie_idx\n",
    "    train_data = []\n",
    "    test_data = []\n",
    "    for i in range(len(data_by_movie)):\n",
    "      train_data.append([])\n",
    "      test_data.append([])\n",
    "      for j in range(len(data_by_movie[i])):\n",
    "        ran = random.uniform(0,1)\n",
    "        if rax= moviedegree.index\n",
    "y= moviedegree.values\n",
    "plt.scatter(np.log(x),np.log(y))n >= 0.9:\n",
    "          test_data[i].append(data_by_movie[i][j])\n",
    "        else:\n",
    "          train_data[i].append(data_by_movie[i][j])\n",
    "    return train_data,test_data\n",
    "\n",
    "\n",
    "\n",
    "\n",
    "\n",
    "\n",
    "\n"
   ]
  },
  {
   "cell_type": "code",
   "execution_count": 3,
   "metadata": {},
   "outputs": [],
   "source": [
    "dataset = DataStructureForRecommendation('/var/autofs/misc/home/omer/Downloads/ml-25m/ratings.csv')\n",
    "\n",
    "data_by_user = dataset.getalluserslist()\n",
    "data_by_movie = dataset.getallmovieslist()\n",
    "\n",
    "movie_train_data,movie_test_data=dataset.get_train_test_movies()\n",
    "user_train_data,user_test_data=dataset.get_train_test_user()\n",
    "\n",
    "movie_to_idx=dataset.getmoviefromidex(1)\n",
    "user_to_idx = dataset.getuserfromidex(1)\n"
   ]
  },
  {
   "cell_type": "markdown",
   "metadata": {},
   "source": [
    "Exploring the dataset"
   ]
  },
  {
   "cell_type": "code",
   "execution_count": 5,
   "metadata": {},
   "outputs": [],
   "source": [
    "movielistSorted = sorted(data_by_movie,key=len,reverse=True)\n",
    "userlistSorted = sorted(data_by_user,key=len,reverse=True)\n"
   ]
  },
  {
   "cell_type": "code",
   "execution_count": 6,
   "metadata": {},
   "outputs": [],
   "source": [
    "userdegree = []\n",
    "for i in userlistSorted:\n",
    "  userdegree.append(len(i))"
   ]
  },
  {
   "cell_type": "code",
   "execution_count": 7,
   "metadata": {},
   "outputs": [],
   "source": [
    "moviedegree = []\n",
    "for i in movielistSorted:\n",
    "  moviedegree.append(len(i))"
   ]
  },
  {
   "cell_type": "code",
   "execution_count": 8,
   "metadata": {},
   "outputs": [
    {
     "name": "stderr",
     "output_type": "stream",
     "text": [
      "/tmp/ipykernel_12337/3437795464.py:1: FutureWarning: pandas.value_counts is deprecated and will be removed in a future version. Use pd.Series(obj).value_counts() instead.\n",
      "  moviedegree=pd.value_counts(moviedegree)\n",
      "/tmp/ipykernel_12337/3437795464.py:1: FutureWarning: value_counts with argument that is not not a Series, Index, ExtensionArray, or np.ndarray is deprecated and will raise in a future version.\n",
      "  moviedegree=pd.value_counts(moviedegree)\n",
      "/tmp/ipykernel_12337/3437795464.py:2: FutureWarning: pandas.value_counts is deprecated and will be removed in a future version. Use pd.Series(obj).value_counts() instead.\n",
      "  userdegree = pd.value_counts(userdegree)\n",
      "/tmp/ipykernel_12337/3437795464.py:2: FutureWarning: value_counts with argument that is not not a Series, Index, ExtensionArray, or np.ndarray is deprecated and will raise in a future version.\n",
      "  userdegree = pd.value_counts(userdegree)\n"
     ]
    }
   ],
   "source": [
    "moviedegree=pd.value_counts(moviedegree)\n",
    "userdegree = pd.value_counts(userdegree)\n"
   ]
  },
  {
   "cell_type": "code",
   "execution_count": 10,
   "metadata": {},
   "outputs": [
    {
     "data": {
      "image/png": "[encoded data removed]",
      "text/plain": [
       "<Figure size 640x480 with 1 Axes>"
      ]
     },
     "metadata": {},
     "output_type": "display_data"
    }
   ],
   "source": [
    "fig,axes =plt.subplots()\n",
    "axes.set_xlabel('Degee')\n",
    "axes.set_ylabel('Frequency')\n",
    "axes.set_title('Degree Distribution for Movies')\n",
    "axes.plot(moviedegree)\n",
    "plt.savefig('moviesdegree.svg')"
   ]
  },
  {
   "cell_type": "code",
   "execution_count": 11,
   "metadata": {},
   "outputs": [
    {
     "data": {
      "image/png": "[encoded data removed]",
      "text/plain": [
       "<Figure size 640x480 with 1 Axes>"
      ]
     },
     "metadata": {},
     "output_type": "display_data"
    }
   ],
   "source": [
    "fig,axes =plt.subplots()\n",
    "axes.set_xlabel('Degee')\n",
    "axes.set_ylabel('Frequency')\n",
    "axes.set_title('Degree Distribution for Users')\n",
    "axes.plot(userdegree)\n",
    "plt.savefig('usersdegree.svg')"
   ]
  },
  {
   "cell_type": "code",
   "execution_count": 37,
   "metadata": {},
   "outputs": [
    {
     "data": {
      "image/png": "[encoded data removed]",
      "text/plain": [
       "<Figure size 640x480 with 1 Axes>"
      ]
     },
     "metadata": {},
     "output_type": "display_data"
    }
   ],
   "source": [
    "x= moviedegree.index\n",
    "y= moviedegree.values\n",
    "fig,axes =plt.subplots()\n",
    "axes.scatter(np.log(x),np.log(y))\n",
    "axes.set_xlabel('log(Degee)')\n",
    "axes.set_ylabel('log(Frequency)')\n",
    "axes.set_title(\"Zipf's low for Movies\")\n",
    "plt.savefig(\"moviesdegreelog.svg\")"
   ]
  },
  {
   "cell_type": "code",
   "execution_count": 38,
   "metadata": {
    "scrolled": true
   },
   "outputs": [
    {
     "data": {
      "image/png": "[encoded data removed]",
      "text/plain": [
       "<Figure size 640x480 with 1 Axes>"
      ]
     },
     "metadata": {},
     "output_type": "display_data"
    }
   ],
   "source": [
    "x= userdegree.index\n",
    "y= userdegree.values\n",
    "fig,axes =plt.subplots()\n",
    "axes.scatter(np.log(x),np.log(y))\n",
    "axes.set_xlabel('log(Degee)')\n",
    "axes.set_ylabel('log(Frequency)')\n",
    "axes.set_title(\"Zipf's low for Users\")\n",
    "plt.savefig(\"usersdegreelog.svg\")"
   ]
  },
  {
   "cell_type": "code",
   "execution_count": 15,
   "metadata": {},
   "outputs": [],
   "source": [
    "ratings_count = dataset.ratings['rating'].value_counts()"
   ]
  },
  {
   "cell_type": "code",
   "execution_count": 41,
   "metadata": {},
   "outputs": [
    {
     "data": {
      "image/png": "[encoded data removed]",
      "text/plain": [
       "<Figure size 1000x600 with 1 Axes>"
      ]
     },
     "metadata": {},
     "output_type": "display_data"
    }
   ],
   "source": [
    "plt.figure(figsize=(10, 6))\n",
    "plt.bar(ratings_count.index, ratings_count.values)\n",
    "plt.xlabel('Rating')\n",
    "plt.ylabel('Count')\n",
    "plt.title('Distribution of Ratings')\n",
    "plt.savefig(\"distOfRating.svg\")\n",
    "plt.show()\n"
   ]
  },
  {
   "cell_type": "code",
   "execution_count": 18,
   "metadata": {},
   "outputs": [],
   "source": [
    "movies = pd.read_csv(\"/var/autofs/misc/home/omer/Downloads/ml-25m/movies.csv\")\n",
    "ratings = dataset.ratings\n",
    "movies_and_ratings= ratings.merge(movies,on='movieId')\n"
   ]
  },
  {
   "cell_type": "code",
   "execution_count": 42,
   "metadata": {},
   "outputs": [
    {
     "data": {
      "image/png": "[encoded data removed]",
      "text/plain": [
       "<Figure size 1000x600 with 1 Axes>"
      ]
     },
     "metadata": {},
     "output_type": "display_data"
    }
   ],
   "source": [
    "drama_movies_ratings = movies_and_ratings['rating'].loc[movies_and_ratings['genres'] == 'Drama'].value_counts()\n",
    "plt.figure(figsize=(10, 6))\n",
    "plt.bar(ratings_count.index, drama_movies_ratings)\n",
    "plt.xlabel('Rating')\n",
    "plt.ylabel('Count')\n",
    "plt.title('Distribution of Drama movies Ratings')\n",
    "plt.savefig(\"distofDramaMovies.svg\")\n",
    "plt.show()\n"
   ]
  },
  {
   "cell_type": "code",
   "execution_count": 43,
   "metadata": {},
   "outputs": [
    {
     "data": {
      "image/png": "[encoded data removed]",
      "text/plain": [
       "<Figure size 1000x600 with 1 Axes>"
      ]
     },
     "metadata": {},
     "output_type": "display_data"
    }
   ],
   "source": [
    "comedy_movies_ratings = movies_and_ratings['rating'].loc[movies_and_ratings['genres'] == 'Comedy'].value_counts()\n",
    "plt.figure(figsize=(10, 6))\n",
    "plt.bar(ratings_count.index, comedy_movies_ratings)\n",
    "plt.xlabel('Rating')\n",
    "plt.ylabel('Count')\n",
    "plt.title('Distribution of Comedy movies Ratings')\n",
    "plt.savefig(\"distofComedyMovies.svg\")\n",
    "plt.show()\n"
   ]
  },
  {
   "cell_type": "markdown",
   "metadata": {},
   "source": [
    "Using only Biases"
   ]
  },
  {
   "cell_type": "code",
   "execution_count": 26,
   "metadata": {},
   "outputs": [],
   "source": [
    "def calculate_bias(bias_type):\n",
    "    if bias_type == \"user\":\n",
    "        for i in range(len(user_train_data)):\n",
    "            bias_sum = 0\n",
    "            item_counter = 0\n",
    "            for j in range(len(user_train_data[i])):\n",
    "                if user_train_data[i][j] == ():\n",
    "                    continue\n",
    "\n",
    "                movie_id = user_train_data[i][j][0]\n",
    "                actual_rating = user_train_data[i][j][1]\n",
    "                movie_index = movie_to_idx[movie_id]\n",
    "                bias_sum += lambd * ( actual_rating - movies_biases[movie_index] )\n",
    "                item_counter += 1\n",
    "\n",
    "            if item_counter > 0:\n",
    "                bias = bias_sum / ( (lambd * item_counter) + gamma)\n",
    "                users_biases[i] = bias\n",
    "\n",
    "        return users_biases\n",
    "\n",
    "    else:\n",
    "        for i in range(len(movie_train_data)):\n",
    "            bias_sum = 0\n",
    "            item_counter = 0\n",
    "            for j in range(len(movie_train_data[i])):\n",
    "                if movie_train_data[i][j] == ():\n",
    "                    continue\n",
    "\n",
    "                user_id = movie_train_data[i][j][0]\n",
    "                actual_rating = movie_train_data[i][j][1]\n",
    "                user_index = user_to_idx[user_id]\n",
    "\n",
    "                bias_sum += lambd * ( actual_rating - users_biases[user_index] )\n",
    "                item_counter += 1\n",
    "\n",
    "            if item_counter > 0:\n",
    "                bias = bias_sum / ((lambd * item_counter) + gamma)\n",
    "                movies_biases[i] = bias\n",
    "\n",
    "        return movies_biases\n",
    "\n",
    "\n",
    "\n",
    "\n",
    "def calculate_loss():\n",
    "    loss = 0\n",
    "    n = 0\n",
    "\n",
    "    for i in range(len(user_train_data)):\n",
    "        for j in range(len(user_train_data[i])):\n",
    "            if user_train_data[i][j] == ():\n",
    "                continue\n",
    "\n",
    "            movie_id = user_train_data[i][j][0]\n",
    "            actual_rating = user_train_data[i][j][1]\n",
    "            movie_index = movie_to_idx[movie_id]\n",
    "\n",
    "            predicted_rating = users_biases[i] + movies_biases[movie_index]\n",
    "\n",
    "            error = actual_rating - predicted_rating\n",
    "            loss += error ** 2\n",
    "            n = n+1\n",
    "    return loss / n\n",
    "\n",
    "\n",
    "\n",
    "def calculate_loss_test():\n",
    "    loss = 0\n",
    "    n = 0\n",
    "\n",
    "    for i in range(len(user_test_data)):\n",
    "        for j in range(len(user_test_data[i])):\n",
    "            if user_test_data[i][j] == ():\n",
    "                continue\n",
    "\n",
    "            movie_id = user_test_data[i][j][0]\n",
    "            actual_rating = user_test_data[i][j][1]\n",
    "            movie_index = movie_to_idx[movie_id]\n",
    "\n",
    "            predicted_rating = users_biases[i] + movies_biases[movie_index]\n",
    "\n",
    "            error = actual_rating - predicted_rating\n",
    "            loss += error ** 2\n",
    "            n = n + 1\n",
    "\n",
    "    return loss / n\n",
    "\n",
    "\n",
    "\n",
    "def calculate_rmsq_test():\n",
    "    rmsq = 0\n",
    "    n = 0\n",
    "\n",
    "    for i in range(len(user_test_data)):\n",
    "        for j in range(len(user_test_data[i])):\n",
    "            if user_test_data[i][j] == ():\n",
    "                continue\n",
    "            else:\n",
    "                movie_id = user_test_data[i][j][0]\n",
    "                movie_index = movie_to_idx[movie_id]\n",
    "                actual_rating = user_test_data[i][j][1]\n",
    "                \n",
    "                predicted_rating = users_biases[i] + movies_biases[movie_index]\n",
    "\n",
    "\n",
    "                error = actual_rating - predicted_rating\n",
    "                rmsq += error ** 2\n",
    "                n += 1\n",
    "\n",
    "\n",
    "    rmsq = np.sqrt(rmsq / n)\n",
    "\n",
    "    return n, rmsq\n",
    "\n",
    "\n",
    "def calculate_rmsq():\n",
    "    rmsq = 0\n",
    "    n = 0\n",
    "\n",
    "    for i in range(len(user_train_data)):\n",
    "        for j in range(len(user_train_data[i])):\n",
    "            if user_train_data[i][j] == ():\n",
    "                continue\n",
    "            else:\n",
    "                movie_id = user_train_data[i][j][0]\n",
    "                movie_index = movie_to_idx[movie_id]\n",
    "                actual_rating = user_train_data[i][j][1]\n",
    "                \n",
    "                predicted_rating = users_biases[i] + movies_biases[movie_index]\n",
    "\n",
    "\n",
    "                error = actual_rating - predicted_rating\n",
    "                rmsq += error ** 2\n",
    "                n += 1\n",
    "\n",
    "\n",
    "    rmsq = np.sqrt(rmsq / n)\n",
    "    return n, rmsq\n",
    "\n",
    "\n"
   ]
  },
  {
   "cell_type": "code",
   "execution_count": 27,
   "metadata": {},
   "outputs": [
    {
     "name": "stderr",
     "output_type": "stream",
     "text": [
      "  0%|                                                    | 0/10 [00:00<?, ?it/s]"
     ]
    },
    {
     "name": "stdout",
     "output_type": "stream",
     "text": [
      "end of user bias\n",
      "end of movie bias\n",
      "end of loss train\n",
      "end of rmsq train\n",
      "end of loss test \n"
     ]
    },
    {
     "name": "stderr",
     "output_type": "stream",
     "text": [
      " 10%|████▍                                       | 1/10 [00:29<04:26, 29.66s/it]"
     ]
    },
    {
     "name": "stdout",
     "output_type": "stream",
     "text": [
      "epoch 0 : loss train 0.7491030466195192 , loss test 0.7600840871542629  rmsq 0.8655073925851351  rmsq test 0.8718280146647405 \n",
      "end of user bias\n",
      "end of movie bias\n",
      "end of loss train\n",
      "end of rmsq train\n",
      "end of loss test \n"
     ]
    },
    {
     "name": "stderr",
     "output_type": "stream",
     "text": [
      " 20%|████████▊                                   | 2/10 [00:57<03:49, 28.71s/it]"
     ]
    },
    {
     "name": "stdout",
     "output_type": "stream",
     "text": [
      "epoch 1 : loss train 0.7251534924838675 , loss test 0.7358458639126424  rmsq 0.8515594474162491  rmsq test 0.8578145859756888 \n",
      "end of user bias\n",
      "end of movie bias\n",
      "end of loss train\n",
      "end of rmsq train\n",
      "end of loss test \n"
     ]
    },
    {
     "name": "stderr",
     "output_type": "stream",
     "text": [
      " 30%|█████████████▏                              | 3/10 [01:25<03:19, 28.46s/it]"
     ]
    },
    {
     "name": "stdout",
     "output_type": "stream",
     "text": [
      "epoch 2 : loss train 0.7242775239182109 , loss test 0.734951553023  rmsq 0.8510449599863752  rmsq test 0.8572931546577285 \n",
      "end of user bias\n",
      "end of movie bias\n",
      "end of loss train\n",
      "end of rmsq train\n",
      "end of loss test \n"
     ]
    },
    {
     "name": "stderr",
     "output_type": "stream",
     "text": [
      " 40%|█████████████████▌                          | 4/10 [01:53<02:49, 28.26s/it]"
     ]
    },
    {
     "name": "stdout",
     "output_type": "stream",
     "text": [
      "epoch 3 : loss train 0.7242122430166448 , loss test 0.7348814022399462  rmsq 0.8510066057420734  rmsq test 0.8572522395654305 \n",
      "end of user bias\n",
      "end of movie bias\n",
      "end of loss train\n",
      "end of rmsq train\n",
      "end of loss test \n"
     ]
    },
    {
     "name": "stderr",
     "output_type": "stream",
     "text": [
      " 50%|██████████████████████                      | 5/10 [02:21<02:20, 28.10s/it]"
     ]
    },
    {
     "name": "stdout",
     "output_type": "stream",
     "text": [
      "epoch 4 : loss train 0.724175380699334 , loss test 0.7348422073542246  rmsq 0.8509849473987974  rmsq test 0.857229378494592 \n",
      "end of user bias\n",
      "end of movie bias\n",
      "end of loss train\n",
      "end of rmsq train\n",
      "end of loss test \n"
     ]
    },
    {
     "name": "stderr",
     "output_type": "stream",
     "text": [
      " 60%|██████████████████████████▍                 | 6/10 [02:50<01:53, 28.39s/it]"
     ]
    },
    {
     "name": "stdout",
     "output_type": "stream",
     "text": [
      "epoch 5 : loss train 0.7241460537932498 , loss test 0.7348114079442857  rmsq 0.8509677160699164  rmsq test 0.8572114137972532 \n",
      "end of user bias\n",
      "end of movie bias\n",
      "end of loss train\n",
      "end of rmsq train\n",
      "end of loss test \n"
     ]
    },
    {
     "name": "stderr",
     "output_type": "stream",
     "text": [
      " 70%|██████████████████████████████▊             | 7/10 [03:20<01:26, 28.73s/it]"
     ]
    },
    {
     "name": "stdout",
     "output_type": "stream",
     "text": [
      "epoch 6 : loss train 0.724122007079241 , loss test 0.7347862047931575  rmsq 0.8509535869124949  rmsq test 0.8571967130088387 \n",
      "end of user bias\n",
      "end of movie bias\n",
      "end of loss train\n",
      "end of rmsq train\n",
      "end of loss test \n"
     ]
    },
    {
     "name": "stderr",
     "output_type": "stream",
     "text": [
      " 80%|███████████████████████████████████▏        | 8/10 [03:48<00:57, 28.73s/it]"
     ]
    },
    {
     "name": "stdout",
     "output_type": "stream",
     "text": [
      "epoch 7 : loss train 0.7241011266270528 , loss test 0.7347642931050983  rmsq 0.8509413179691375  rmsq test 0.8571839318985734 \n",
      "end of user bias\n",
      "end of movie bias\n",
      "end of loss train\n",
      "end of rmsq train\n",
      "end of loss test \n"
     ]
    },
    {
     "name": "stderr",
     "output_type": "stream",
     "text": [
      " 90%|███████████████████████████████████████▌    | 9/10 [04:17<00:28, 28.65s/it]"
     ]
    },
    {
     "name": "stdout",
     "output_type": "stream",
     "text": [
      "epoch 8 : loss train 0.7240821468511903 , loss test 0.7347443408291545  rmsq 0.8509301656723601  rmsq test 0.8571722935496425 \n",
      "end of user bias\n",
      "end of movie bias\n",
      "end of loss train\n",
      "end of rmsq train\n",
      "end of loss test \n"
     ]
    },
    {
     "name": "stderr",
     "output_type": "stream",
     "text": [
      "100%|███████████████████████████████████████████| 10/10 [04:46<00:00, 28.61s/it]"
     ]
    },
    {
     "name": "stdout",
     "output_type": "stream",
     "text": [
      "epoch 9 : loss train 0.7240644315621533 , loss test 0.7347256883907216  rmsq 0.8509197562415349  rmsq test 0.8571614132651572 \n"
     ]
    },
    {
     "name": "stderr",
     "output_type": "stream",
     "text": [
      "\n"
     ]
    }
   ],
   "source": [
    "\n",
    "loss_values_test = []\n",
    "rmsq_values_test = []\n",
    "loss_values = []\n",
    "rmsq_values = []\n",
    "\n",
    "\n",
    "repeat  = 10\n",
    "lambd = 0.1\n",
    "gamma = 0.1\n",
    "\n",
    "users_biases = np.zeros(200948)\n",
    "movies_biases = np.zeros(84432)\n",
    "\n",
    "\n",
    "\n",
    "for _ in tqdm(range(repeat)):\n",
    "\n",
    "\n",
    "  calculate_bias(bias_type=\"user\")\n",
    "  print(\"end of user bias\")\n",
    "\n",
    "\n",
    "  calculate_bias(bias_type=\"movie\")\n",
    "  print(\"end of movie bias\")\n",
    "\n",
    "\n",
    "  loss = calculate_loss()\n",
    "  loss_values.append((lambd / 2) * loss)\n",
    "\n",
    "  print(\"end of loss train\")\n",
    "\n",
    "\n",
    "  n,rmsq=calculate_rmsq()\n",
    "  rmsq_values.append( rmsq )\n",
    "\n",
    "  print(\"end of rmsq train\")\n",
    "\n",
    "\n",
    "  loss_test = calculate_loss_test()\n",
    "  loss_values_test.append((lambd / 2) * loss_test)\n",
    "\n",
    "  print(\"end of loss test \")\n",
    "\n",
    "\n",
    "  n_test,rmsq_test=calculate_rmsq_test()\n",
    "  rmsq_values_test.append( rmsq_test )\n",
    "\n",
    "  \n",
    "  print(f'epoch {_} : loss train {loss} , loss test {loss_test}  rmsq {rmsq}  rmsq test {rmsq_test} ')\n",
    "\n"
   ]
  },
  {
   "cell_type": "code",
   "execution_count": 29,
   "metadata": {},
   "outputs": [
    {
     "data": {
      "image/png": "[encoded data removed]",
      "text/plain": [
       "<Figure size 640x480 with 1 Axes>"
      ]
     },
     "metadata": {},
     "output_type": "display_data"
    }
   ],
   "source": [
    "plt.plot(loss_values,label=\"Train loss\")\n",
    "plt.plot(loss_values_test,label=\"Test loss\")\n",
    "plt.legend(['train loss','test loss'])\n",
    "plt.savefig('loss_without_factors.svg')"
   ]
  },
  {
   "cell_type": "code",
   "execution_count": 30,
   "metadata": {},
   "outputs": [
    {
     "data": {
      "image/png": "[encoded data removed]",
      "text/plain": [
       "<Figure size 640x480 with 1 Axes>"
      ]
     },
     "metadata": {},
     "output_type": "display_data"
    }
   ],
   "source": [
    "plt.plot(rmsq_values)\n",
    "plt.plot(rmsq_values_test)\n",
    "plt.legend(['train rmse','test rmse'])\n",
    "plt.savefig('rmse_without_factors.svg')"
   ]
  },
  {
   "cell_type": "markdown",
   "metadata": {},
   "source": [
    "\n",
    "adding Factors to the equation"
   ]
  },
  {
   "cell_type": "code",
   "execution_count": 4,
   "metadata": {},
   "outputs": [
    {
     "name": "stderr",
     "output_type": "stream",
     "text": [
      "  0%|                                                    | 0/10 [00:00<?, ?it/s]"
     ]
    },
    {
     "name": "stdout",
     "output_type": "stream",
     "text": [
      "end of user bias\n",
      "end of user latent\n",
      "end of movie bias\n",
      "end of movie latent\n",
      "end of loss train\n",
      "end of rmsq train\n",
      "end of loss test \n"
     ]
    },
    {
     "name": "stderr",
     "output_type": "stream",
     "text": [
      " 10%|████▎                                      | 1/10 [04:33<40:57, 273.02s/it]"
     ]
    },
    {
     "name": "stdout",
     "output_type": "stream",
     "text": [
      "epoch 0 : loss train 0.6861227542138962 , loss test 0.7827106895933246  rmsq 0.8283252707806856  rmsq test 0.8847093814317358 \n",
      "end of user bias\n",
      "end of user latent\n",
      "end of movie bias\n",
      "end of movie latent\n",
      "end of loss train\n",
      "end of rmsq train\n",
      "end of loss test \n"
     ]
    },
    {
     "name": "stderr",
     "output_type": "stream",
     "text": [
      " 20%|████████▌                                  | 2/10 [09:04<36:18, 272.26s/it]"
     ]
    },
    {
     "name": "stdout",
     "output_type": "stream",
     "text": [
      "epoch 1 : loss train 0.5970350977783787 , loss test 0.6959441431985618  rmsq 0.7726804629200733  rmsq test 0.8342326673048484 \n",
      "end of user bias\n",
      "end of user latent\n",
      "end of movie bias\n",
      "end of movie latent\n",
      "end of loss train\n",
      "end of rmsq train\n",
      "end of loss test \n"
     ]
    },
    {
     "name": "stderr",
     "output_type": "stream",
     "text": [
      " 30%|████████████▉                              | 3/10 [13:30<31:25, 269.37s/it]"
     ]
    },
    {
     "name": "stdout",
     "output_type": "stream",
     "text": [
      "epoch 2 : loss train 0.5532492236478805 , loss test 0.6499352055392484  rmsq 0.743807248988527  rmsq test 0.8061855900096754 \n",
      "end of user bias\n",
      "end of user latent\n",
      "end of movie bias\n",
      "end of movie latent\n",
      "end of loss train\n",
      "end of rmsq train\n",
      "end of loss test \n"
     ]
    },
    {
     "name": "stderr",
     "output_type": "stream",
     "text": [
      " 40%|█████████████████▏                         | 4/10 [17:54<26:42, 267.16s/it]"
     ]
    },
    {
     "name": "stdout",
     "output_type": "stream",
     "text": [
      "epoch 3 : loss train 0.5320896989750001 , loss test 0.6276270301955935  rmsq 0.7294447881608314  rmsq test 0.792229152578718 \n",
      "end of user bias\n",
      "end of user latent\n",
      "end of movie bias\n",
      "end of movie latent\n",
      "end of loss train\n",
      "end of rmsq train\n",
      "end of loss test \n"
     ]
    },
    {
     "name": "stderr",
     "output_type": "stream",
     "text": [
      " 50%|█████████████████████▌                     | 5/10 [22:27<22:27, 269.42s/it]"
     ]
    },
    {
     "name": "stdout",
     "output_type": "stream",
     "text": [
      "epoch 4 : loss train 0.5210657499800052 , loss test 0.6161507979893025  rmsq 0.7218488415035417  rmsq test 0.7849527361499561 \n",
      "end of user bias\n",
      "end of user latent\n",
      "end of movie bias\n",
      "end of movie latent\n",
      "end of loss train\n",
      "end of rmsq train\n",
      "end of loss test \n"
     ]
    },
    {
     "name": "stderr",
     "output_type": "stream",
     "text": [
      " 60%|█████████████████████████▊                 | 6/10 [27:38<18:53, 283.38s/it]"
     ]
    },
    {
     "name": "stdout",
     "output_type": "stream",
     "text": [
      "epoch 5 : loss train 0.5146010579770899 , loss test 0.6095577293573898  rmsq 0.7173569947920561  rmsq test 0.7807417814856522 \n",
      "end of user bias\n",
      "end of user latent\n",
      "end of movie bias\n",
      "end of movie latent\n",
      "end of loss train\n",
      "end of rmsq train\n",
      "end of loss test \n"
     ]
    },
    {
     "name": "stderr",
     "output_type": "stream",
     "text": [
      " 70%|██████████████████████████████             | 7/10 [32:17<14:05, 281.95s/it]"
     ]
    },
    {
     "name": "stdout",
     "output_type": "stream",
     "text": [
      "epoch 6 : loss train 0.5104536189845029 , loss test 0.6054093096673347  rmsq 0.7144603690790015  rmsq test 0.7780805290375379 \n",
      "end of user bias\n",
      "end of user latent\n",
      "end of movie bias\n",
      "end of movie latent\n",
      "end of loss train\n",
      "end of rmsq train\n",
      "end of loss test \n"
     ]
    },
    {
     "name": "stderr",
     "output_type": "stream",
     "text": [
      " 80%|██████████████████████████████████▍        | 8/10 [36:49<09:17, 278.93s/it]"
     ]
    },
    {
     "name": "stdout",
     "output_type": "stream",
     "text": [
      "epoch 7 : loss train 0.5076440287832559 , loss test 0.6026845159467062  rmsq 0.7124914236559313  rmsq test 0.7763275828841238 \n",
      "end of user bias\n",
      "end of user latent\n",
      "end of movie bias\n",
      "end of movie latent\n",
      "end of loss train\n",
      "end of rmsq train\n",
      "end of loss test \n"
     ]
    },
    {
     "name": "stderr",
     "output_type": "stream",
     "text": [
      " 90%|██████████████████████████████████████▋    | 9/10 [41:44<04:43, 283.74s/it]"
     ]
    },
    {
     "name": "stdout",
     "output_type": "stream",
     "text": [
      "epoch 8 : loss train 0.5057138868620606 , loss test 0.6008919562044168  rmsq 0.7111356318326769  rmsq test 0.7751722106760645 \n",
      "end of user bias\n",
      "end of user latent\n",
      "end of movie bias\n",
      "end of movie latent\n",
      "end of loss train\n",
      "end of rmsq train\n",
      "end of loss test \n"
     ]
    },
    {
     "name": "stderr",
     "output_type": "stream",
     "text": [
      "100%|██████████████████████████████████████████| 10/10 [46:25<00:00, 278.55s/it]"
     ]
    },
    {
     "name": "stdout",
     "output_type": "stream",
     "text": [
      "epoch 9 : loss train 0.5043967589580031 , loss test 0.5997288473079148  rmsq 0.7102089544338364  rmsq test 0.774421621152144 \n"
     ]
    },
    {
     "name": "stderr",
     "output_type": "stream",
     "text": [
      "\n"
     ]
    }
   ],
   "source": [
    "\n",
    "def calculate_bias(bias_type):\n",
    "    if bias_type == \"user\":\n",
    "        for i in range(len(user_train_data)):\n",
    "            bias_sum = 0\n",
    "            item_counter = 0\n",
    "            for j in range(len(user_train_data[i])):\n",
    "                if user_train_data[i][j] == ():\n",
    "                    continue\n",
    "\n",
    "                movie_id = user_train_data[i][j][0]\n",
    "                actual_rating = user_train_data[i][j][1]\n",
    "                movie_index = movie_to_idx[movie_id]\n",
    "                bias_sum += lambd * ( actual_rating - \n",
    "                                     ( np.dot( np.transpose( users_latent[:,i] ) , movies_latent[:,movie_index] )\n",
    "                                      + movies_biases[movie_index] ) )\n",
    "                item_counter += 1\n",
    "\n",
    "            if item_counter > 0:\n",
    "                bias = bias_sum / ( (lambd * item_counter) + gamma)\n",
    "                users_biases[i] = bias\n",
    "\n",
    "        return users_biases\n",
    "\n",
    "    else:\n",
    "        for i in range(len(movie_train_data)):\n",
    "            bias_sum = 0\n",
    "            item_counter = 0\n",
    "            for j in range(len(movie_train_data[i])):\n",
    "                if movie_train_data[i][j] == ():\n",
    "                    continue\n",
    "\n",
    "                user_id = movie_train_data[i][j][0]\n",
    "                actual_rating = movie_train_data[i][j][1]\n",
    "                user_index = user_to_idx[user_id]\n",
    "\n",
    "                bias_sum += lambd * ( actual_rating - \n",
    "                                     ( np.dot( np.transpose( movies_latent[:,i]) , users_latent[:,user_index] )\n",
    "                                      + users_biases[user_index] )\n",
    "                                    )\n",
    "                item_counter += 1\n",
    "\n",
    "            if item_counter > 0:\n",
    "                bias = bias_sum / ((lambd * item_counter) + gamma)\n",
    "                movies_biases[i] = bias\n",
    "\n",
    "        return movies_biases\n",
    "\n",
    "\n",
    "\n",
    "\n",
    "def calculate_loss():\n",
    "    loss = 0\n",
    "    n = 0\n",
    "\n",
    "    for i in range(len(user_train_data)):\n",
    "        for j in range(len(user_train_data[i])):\n",
    "            if user_train_data[i][j] == ():\n",
    "                continue\n",
    "\n",
    "            movie_id = user_train_data[i][j][0]\n",
    "            actual_rating = user_train_data[i][j][1]\n",
    "            movie_index = movie_to_idx[movie_id]\n",
    "\n",
    "            predicted_rating = ( np.dot(users_latent[:, i], np.transpose(movies_latent[:, movie_index]))\n",
    "                                + users_biases[i] + movies_biases[movie_index])\n",
    "\n",
    "            error = actual_rating - predicted_rating\n",
    "            loss += error ** 2\n",
    "            n = n+1\n",
    "    return loss / n\n",
    "\n",
    "\n",
    "\n",
    "def calculate_loss_test():\n",
    "    loss = 0\n",
    "    n = 0\n",
    "\n",
    "    for i in range(len(user_test_data)):\n",
    "        for j in range(len(user_test_data[i])):\n",
    "            if user_test_data[i][j] == ():\n",
    "                continue\n",
    "\n",
    "            movie_id = user_test_data[i][j][0]\n",
    "            actual_rating = user_test_data[i][j][1]\n",
    "            movie_index = movie_to_idx[movie_id]\n",
    "\n",
    "            predicted_rating = (np.dot(users_latent[:, i], np.transpose(movies_latent[:, movie_index]))\n",
    "                                + users_biases[i] + movies_biases[movie_index])\n",
    "\n",
    "            error = actual_rating - predicted_rating\n",
    "            loss += error ** 2\n",
    "            n = n + 1\n",
    "\n",
    "    return loss / n\n",
    "\n",
    "\n",
    "\n",
    "def calculate_rmsq_test():\n",
    "    rmsq = 0\n",
    "    n = 0\n",
    "\n",
    "    for i in range(len(user_test_data)):\n",
    "        for j in range(len(user_test_data[i])):\n",
    "            if user_test_data[i][j] == ():\n",
    "                continue\n",
    "            else:\n",
    "                movie_id = user_test_data[i][j][0]\n",
    "                movie_index = movie_to_idx[movie_id]\n",
    "                actual_rating = user_test_data[i][j][1]\n",
    "                \n",
    "                predicted_rating = (\n",
    "                    np.dot(users_latent[:, i], np.transpose( movies_latent[:, movie_index] ) )\n",
    "                                    + users_biases[i] + movies_biases[movie_index])\n",
    "\n",
    "\n",
    "                error = actual_rating - predicted_rating\n",
    "                rmsq += error ** 2\n",
    "                n += 1\n",
    "\n",
    "\n",
    "    rmsq = np.sqrt(rmsq / n)\n",
    "\n",
    "    return n, rmsq\n",
    "\n",
    "\n",
    "def calculate_rmsq():\n",
    "    rmsq = 0\n",
    "    n = 0\n",
    "\n",
    "    for i in range(len(user_train_data)):\n",
    "        for j in range(len(user_train_data[i])):\n",
    "            if user_train_data[i][j] == ():\n",
    "                continue\n",
    "            else:\n",
    "                movie_id = user_train_data[i][j][0]\n",
    "                movie_index = movie_to_idx[movie_id]\n",
    "                actual_rating = user_train_data[i][j][1]\n",
    "                \n",
    "                predicted_rating = (np.dot(users_latent[:, i], np.transpose(movies_latent[:, movie_index]))\n",
    "                                    + users_biases[i] + movies_biases[movie_index])\n",
    "\n",
    "\n",
    "                error = actual_rating - predicted_rating\n",
    "                rmsq += error ** 2\n",
    "                n += 1\n",
    "\n",
    "\n",
    "    rmsq = np.sqrt(rmsq / n)\n",
    "    return n, rmsq\n",
    "\n",
    "\n",
    "\n",
    "\n",
    "\n",
    "def update_user_latent_factors():\n",
    "    for i in range(len(user_train_data)):\n",
    "        x = np.zeros(factors)\n",
    "        y = np.zeros((factors, factors))\n",
    "\n",
    "        for j in range(len(user_train_data[i])):\n",
    "            if user_train_data[i][j] == ():\n",
    "                continue\n",
    "            else:\n",
    "               actual_rating = user_train_data[i][j][1]\n",
    "               movie_id = user_train_data[i][j][0]\n",
    "               movie_index = movie_to_idx[movie_id]\n",
    "               error = actual_rating - users_biases[i] - movies_biases[movie_index]\n",
    "               x += movies_latent[:, movie_index] * error\n",
    "               y += np.outer(movies_latent[:, movie_index], movies_latent[:, movie_index])\n",
    "\n",
    "        y += np.identity(factors) * taw  \n",
    "        users_latent[:, i] = np.matmul(  np.linalg.inv(lambd * y) , lambd * x)  \n",
    "\n",
    "\n",
    "\n",
    "\n",
    "def update_movie_latent_factors():\n",
    "    for i in range(len(movie_train_data)):\n",
    "        x = np.zeros(factors)\n",
    "        y = np.zeros((factors, factors))\n",
    "\n",
    "        for j in range(len(movie_train_data[i])):\n",
    "            if movie_train_data[i][j] == ():\n",
    "                continue\n",
    "            else:\n",
    "                user_id = movie_train_data[i][j][0]\n",
    "                user_index = user_to_idx[user_id]\n",
    "                r = movie_train_data[i][j][1]\n",
    "                error = r - movies_biases[i] - users_biases[user_index]\n",
    "                x += users_latent[:, user_index] * error\n",
    "                y += np.outer(users_latent[:, user_index], users_latent[:, user_index])\n",
    "\n",
    "        y += np.identity(factors) * taw  \n",
    "        movies_latent[:, i] = np.matmul(  np.linalg.inv(lambd * y) , lambd * x)  \n",
    "\n",
    "\n",
    "\n",
    "loss_values_test = []\n",
    "rmsq_values_test = []\n",
    "loss_values = []\n",
    "rmsq_values = []\n",
    "\n",
    "\n",
    "repeat  = 10\n",
    "lambd = 0.1\n",
    "gamma = 0.1\n",
    "taw = 1\n",
    "factors = 10\n",
    "\n",
    "users_latent = np.random.normal(0,1/math.sqrt(factors), size=(factors,200948))\n",
    "movies_latent = np.random.normal(0, 1/math.sqrt(factors), size=(factors,84432))\n",
    "users_biases = np.zeros(200948)\n",
    "movies_biases = np.zeros(84432)\n",
    "\n",
    "\n",
    "\n",
    "for _ in tqdm(range(repeat)):\n",
    "\n",
    "\n",
    "  calculate_bias(bias_type=\"user\")\n",
    "  print(\"end of user bias\")\n",
    "\n",
    "  update_user_latent_factors()\n",
    "  print(\"end of user latent\")\n",
    "\n",
    "\n",
    "  calculate_bias(bias_type=\"movie\")\n",
    "  print(\"end of movie bias\")\n",
    "\n",
    "  update_movie_latent_factors()\n",
    "  print(\"end of movie latent\")\n",
    "\n",
    "\n",
    "  loss = calculate_loss()\n",
    "  loss_values.append((lambd / 2) * loss)\n",
    "\n",
    "  print(\"end of loss train\")\n",
    "\n",
    "\n",
    "  n,rmsq=calculate_rmsq()\n",
    "  rmsq_values.append( rmsq )\n",
    "\n",
    "  print(\"end of rmsq train\")\n",
    "\n",
    "\n",
    "  loss_test = calculate_loss_test()\n",
    "  loss_values_test.append((lambd / 2) * loss_test)\n",
    "\n",
    "  print(\"end of loss test \")\n",
    "\n",
    "\n",
    "  n_test,rmsq_test=calculate_rmsq_test()\n",
    "  rmsq_values_test.append( rmsq_test )\n",
    "\n",
    "  \n",
    "  print(f'epoch {_} : loss train {loss} , loss test {loss_test}  rmsq {rmsq}  rmsq test {rmsq_test} ')\n",
    "\n",
    "\n",
    "\n"
   ]
  },
  {
   "cell_type": "code",
   "execution_count": 99,
   "metadata": {},
   "outputs": [
    {
     "data": {
      "image/png": "[encoded data removed]",
      "text/plain": [
       "<Figure size 640x480 with 1 Axes>"
      ]
     },
     "metadata": {},
     "output_type": "display_data"
    }
   ],
   "source": [
    "plt.plot(loss_values,label=\"Train loss\")\n",
    "plt.plot(loss_values_test,label=\"Test loss\")\n",
    "plt.legend(['train loss','test loss'])\n",
    "plt.savefig('loss.svg')"
   ]
  },
  {
   "cell_type": "code",
   "execution_count": 100,
   "metadata": {},
   "outputs": [
    {
     "data": {
      "image/png": "[encoded data removed]",
      "text/plain": [
       "<Figure size 640x480 with 1 Axes>"
      ]
     },
     "metadata": {},
     "output_type": "display_data"
    }
   ],
   "source": [
    "plt.plot(rmsq_values)\n",
    "plt.plot(rmsq_values_test)\n",
    "plt.legend(['train rmse','test rmse'])\n",
    "plt.savefig('rmse.svg')"
   ]
  },
  {
   "cell_type": "markdown",
   "metadata": {},
   "source": [
    "**Prediction**"
   ]
  },
  {
   "cell_type": "code",
   "execution_count": 101,
   "metadata": {},
   "outputs": [],
   "source": [
    "movies = pd.read_csv(\"/var/autofs/misc/home/omer/Downloads/ml-25m/movies.csv\")"
   ]
  },
  {
   "cell_type": "code",
   "execution_count": 158,
   "metadata": {},
   "outputs": [
    {
     "data": {
      "text/html": [
       "<div>\n",
       "<style scoped>\n",
       "    .dataframe tbody tr th:only-of-type {\n",
       "        vertical-align: middle;\n",
       "    }\n",
       "\n",
       "    .dataframe tbody tr th {\n",
       "        vertical-align: top;\n",
       "    }\n",
       "\n",
       "    .dataframe thead th {\n",
       "        text-align: right;\n",
       "    }\n",
       "</style>\n",
       "<table border=\"1\" class=\"dataframe\">\n",
       "  <thead>\n",
       "    <tr style=\"text-align: right;\">\n",
       "      <th></th>\n",
       "      <th>movieId</th>\n",
       "      <th>title</th>\n",
       "      <th>genres</th>\n",
       "    </tr>\n",
       "  </thead>\n",
       "  <tbody>\n",
       "    <tr>\n",
       "      <th>0</th>\n",
       "      <td>1</td>\n",
       "      <td>Toy Story (1995)</td>\n",
       "      <td>Adventure|Animation|Children|Comedy|Fantasy</td>\n",
       "    </tr>\n",
       "  </tbody>\n",
       "</table>\n",
       "</div>"
      ],
      "text/plain": [
       "   movieId             title                                       genres\n",
       "0        1  Toy Story (1995)  Adventure|Animation|Children|Comedy|Fantasy"
      ]
     },
     "execution_count": 158,
     "metadata": {},
     "output_type": "execute_result"
    }
   ],
   "source": [
    "movies.loc[movies[\"movieId\"] == 1]"
   ]
  },
  {
   "cell_type": "code",
   "execution_count": 159,
   "metadata": {},
   "outputs": [],
   "source": [
    "def calculate_dummy_user_bias(user_dummy,iterations,dummy_user_latent):\n",
    "    bias_sum = 0\n",
    "    item_counter = 0\n",
    "    for i in range(len(user_dummy)):\n",
    "        movie_id= user_dummy[i][0]\n",
    "        rating = user_dummy[i][1]\n",
    "        movie_index = movie_to_idx[movie_id]\n",
    "        \n",
    "        if iterations == 0:\n",
    "            bias_sum += lambd * ( rating -  movies_biases[movie_index] )\n",
    "        else:\n",
    "            bias_sum += lambd * ( rating - ( \n",
    "            np.dot( np.transpose( dummy_user_latent ) , movies_latent[:,movie_index] )\n",
    "            + movies_biases[movie_index] ) )\n",
    "            \n",
    "        item_counter += 1\n",
    "    if item_counter > 0:\n",
    "        bias = bias_sum / ( (lambd * item_counter) + gamma)\n",
    "        return bias\n",
    "#         users_biases[-1] = bias"
   ]
  },
  {
   "cell_type": "code",
   "execution_count": 160,
   "metadata": {},
   "outputs": [],
   "source": [
    "def update_user_latent_dummy(dummy_user,dummy_user_bias):\n",
    "        x = np.zeros(factors)\n",
    "        y = np.zeros((factors, factors))\n",
    "        for j in range(len(dummy_user)):\n",
    "            actual_rating = dummy_user[j][1]\n",
    "            movie_id = dummy_user[j][0]\n",
    "            movie_index = movie_to_idx[movie_id]\n",
    "            error = actual_rating - dummy_user_bias - movies_biases[movie_index]\n",
    "            x += movies_latent[:, movie_index] * error\n",
    "            y += np.outer(np.transpose(movies_latent[:, movie_index]), movies_latent[:, movie_index])\n",
    "        y += np.identity(factors) * taw  \n",
    "        return np.matmul(  np.linalg.inv(lambd * y) , lambd * x)"
   ]
  },
  {
   "cell_type": "code",
   "execution_count": 161,
   "metadata": {},
   "outputs": [
    {
     "name": "stderr",
     "output_type": "stream",
     "text": [
      "100%|███████████████████████████████████████████| 5/5 [00:00<00:00, 5055.81it/s]\n"
     ]
    }
   ],
   "source": [
    "user_dummy = [(1,4.0)]\n",
    "dummy_user_latent = np.zeros(factors)\n",
    "\n",
    "iterations=5\n",
    "for _ in tqdm(range(iterations)):\n",
    "    dummy_user_bias = calculate_dummy_user_bias(user_dummy,_,dummy_user_latent)\n",
    "    dummy_user_latent =update_user_latent_dummy(user_dummy,dummy_user_bias)"
   ]
  },
  {
   "cell_type": "code",
   "execution_count": 162,
   "metadata": {},
   "outputs": [],
   "source": [
    "preds = []\n",
    "for i in range(len(movie_to_idx)):\n",
    "    preds.append(np.dot(np.transpose(dummy_user_latent),movies_latent[:,i]) + (0.05 * movies_biases[i]) )"
   ]
  },
  {
   "cell_type": "code",
   "execution_count": 163,
   "metadata": {},
   "outputs": [],
   "source": [
    "pred_df = pd.DataFrame(preds,columns=[\"predictions\"])"
   ]
  },
  {
   "cell_type": "code",
   "execution_count": 164,
   "metadata": {},
   "outputs": [
    {
     "data": {
      "text/plain": [
       "84432"
      ]
     },
     "execution_count": 164,
     "metadata": {},
     "output_type": "execute_result"
    }
   ],
   "source": [
    "len(movies_biases)"
   ]
  },
  {
   "cell_type": "code",
   "execution_count": 165,
   "metadata": {},
   "outputs": [
    {
     "data": {
      "text/html": [
       "<div>\n",
       "<style scoped>\n",
       "    .dataframe tbody tr th:only-of-type {\n",
       "        vertical-align: middle;\n",
       "    }\n",
       "\n",
       "    .dataframe tbody tr th {\n",
       "        vertical-align: top;\n",
       "    }\n",
       "\n",
       "    .dataframe thead th {\n",
       "        text-align: right;\n",
       "    }\n",
       "</style>\n",
       "<table border=\"1\" class=\"dataframe\">\n",
       "  <thead>\n",
       "    <tr style=\"text-align: right;\">\n",
       "      <th></th>\n",
       "      <th>predictions</th>\n",
       "    </tr>\n",
       "  </thead>\n",
       "  <tbody>\n",
       "    <tr>\n",
       "      <th>652</th>\n",
       "      <td>2.183505</td>\n",
       "    </tr>\n",
       "    <tr>\n",
       "      <th>174</th>\n",
       "      <td>2.140861</td>\n",
       "    </tr>\n",
       "    <tr>\n",
       "      <th>22443</th>\n",
       "      <td>2.119726</td>\n",
       "    </tr>\n",
       "    <tr>\n",
       "      <th>968</th>\n",
       "      <td>1.981058</td>\n",
       "    </tr>\n",
       "    <tr>\n",
       "      <th>70</th>\n",
       "      <td>1.976756</td>\n",
       "    </tr>\n",
       "    <tr>\n",
       "      <th>7484</th>\n",
       "      <td>1.879402</td>\n",
       "    </tr>\n",
       "    <tr>\n",
       "      <th>142</th>\n",
       "      <td>1.878669</td>\n",
       "    </tr>\n",
       "    <tr>\n",
       "      <th>7575</th>\n",
       "      <td>1.875179</td>\n",
       "    </tr>\n",
       "    <tr>\n",
       "      <th>43865</th>\n",
       "      <td>1.842539</td>\n",
       "    </tr>\n",
       "    <tr>\n",
       "      <th>7559</th>\n",
       "      <td>1.787418</td>\n",
       "    </tr>\n",
       "  </tbody>\n",
       "</table>\n",
       "</div>"
      ],
      "text/plain": [
       "       predictions\n",
       "652       2.183505\n",
       "174       2.140861\n",
       "22443     2.119726\n",
       "968       1.981058\n",
       "70        1.976756\n",
       "7484      1.879402\n",
       "142       1.878669\n",
       "7575      1.875179\n",
       "43865     1.842539\n",
       "7559      1.787418"
      ]
     },
     "execution_count": 165,
     "metadata": {},
     "output_type": "execute_result"
    }
   ],
   "source": [
    "pred_df.sort_values(\"predictions\",ascending=False).head(10)"
   ]
  },
  {
   "cell_type": "code",
   "execution_count": 166,
   "metadata": {},
   "outputs": [
    {
     "data": {
      "text/plain": [
       "249"
      ]
     },
     "execution_count": 166,
     "metadata": {},
     "output_type": "execute_result"
    }
   ],
   "source": [
    "movie_to_idx[40815]"
   ]
  },
  {
   "cell_type": "code",
   "execution_count": 167,
   "metadata": {},
   "outputs": [],
   "source": [
    "idx_to_movie=dataset.idx_to_movie"
   ]
  },
  {
   "cell_type": "code",
   "execution_count": 168,
   "metadata": {},
   "outputs": [
    {
     "data": {
      "text/plain": [
       "0.294666990940248"
      ]
     },
     "execution_count": 168,
     "metadata": {},
     "output_type": "execute_result"
    }
   ],
   "source": [
    "movies_biases[688]"
   ]
  },
  {
   "cell_type": "code",
   "execution_count": 169,
   "metadata": {},
   "outputs": [
    {
     "data": {
      "text/plain": [
       "0.17554918183727403"
      ]
     },
     "execution_count": 169,
     "metadata": {},
     "output_type": "execute_result"
    }
   ],
   "source": [
    "movies_biases[249]"
   ]
  },
  {
   "cell_type": "code",
   "execution_count": 170,
   "metadata": {},
   "outputs": [],
   "source": [
    "best_match = list(pred_df.sort_values(\"predictions\",ascending=False).head(100).index)\n"
   ]
  },
  {
   "cell_type": "code",
   "execution_count": 171,
   "metadata": {},
   "outputs": [
    {
     "name": "stdout",
     "output_type": "stream",
     "text": [
      "       movieId               title  \\\n",
      "14813    78499  Toy Story 3 (2010)   \n",
      "\n",
      "                                                 genres  \n",
      "14813  Adventure|Animation|Children|Comedy|Fantasy|IMAX  \n",
      "      movieId               title                                       genres\n",
      "3021     3114  Toy Story 2 (1999)  Adventure|Animation|Children|Comedy|Fantasy\n",
      "       movieId                                              title  \\\n",
      "52605   185659  Macho Madness - The Randy Savage Ultimate Coll...   \n",
      "\n",
      "                   genres  \n",
      "52605  (no genres listed)  \n",
      "     movieId                        title  \\\n",
      "587      595  Beauty and the Beast (1991)   \n",
      "\n",
      "                                              genres  \n",
      "587  Animation|Children|Fantasy|Musical|Romance|IMAX  \n",
      "   movieId             title                                       genres\n",
      "0        1  Toy Story (1995)  Adventure|Animation|Children|Comedy|Fantasy\n",
      "       movieId                                   title            genres\n",
      "34665   146002  D'Artagnan and Three Musketeers (1979)  Adventure|Comedy\n",
      "      movieId                       title  \\\n",
      "1992     2081  Little Mermaid, The (1989)   \n",
      "\n",
      "                                         genres  \n",
      "1992  Animation|Children|Comedy|Musical|Romance  \n",
      "       movieId                   title                        genres\n",
      "46507   172585  Karlson Returns (1970)  Adventure|Animation|Children\n",
      "       movieId                           title     genres\n",
      "47169   173945  The Wearing of the Grin (1951)  Animation\n",
      "       movieId                    title              genres\n",
      "46139   171835  Neznaika na lune (1997)  (no genres listed)\n"
     ]
    }
   ],
   "source": [
    "for i in range(10):\n",
    "    print(movies.loc[movies[\"movieId\"] == idx_to_movie[best_match[i]]] )\n",
    "    "
   ]
  }
 ],
 "metadata": {
  "kaggle": {
   "accelerator": "none",
   "dataSources": [
    {
     "datasetId": 60876,
     "sourceId": 118283,
     "sourceType": "datasetVersion"
    },
    {
     "datasetId": 1586809,
     "sourceId": 2610766,
     "sourceType": "datasetVersion"
    },
    {
     "datasetId": 5914722,
     "sourceId": 9677390,
     "sourceType": "datasetVersion"
    },
    {
     "datasetId": 5914869,
     "sourceId": 9677598,
     "sourceType": "datasetVersion"
    },
    {
     "datasetId": 5914901,
     "sourceId": 9677639,
     "sourceType": "datasetVersion"
    },
    {
     "datasetId": 5914909,
     "sourceId": 9677649,
     "sourceType": "datasetVersion"
    },
    {
     "datasetId": 5914912,
     "sourceId": 9677654,
     "sourceType": "datasetVersion"
    },
    {
     "datasetId": 5914984,
     "sourceId": 9677751,
     "sourceType": "datasetVersion"
    },
    {
     "datasetId": 5915171,
     "sourceId": 9677998,
     "sourceType": "datasetVersion"
    },
    {
     "datasetId": 5915199,
     "sourceId": 9678033,
     "sourceType": "datasetVersion"
    },
    {
     "datasetId": 5924845,
     "sourceId": 9691150,
     "sourceType": "datasetVersion"
    },
    {
     "datasetId": 5924847,
     "sourceId": 9691153,
     "sourceType": "datasetVersion"
    },
    {
     "datasetId": 5924856,
     "sourceId": 9691162,
     "sourceType": "datasetVersion"
    },
    {
     "datasetId": 5924862,
     "sourceId": 9691169,
     "sourceType": "datasetVersion"
    },
    {
     "datasetId": 5933308,
     "sourceId": 9702308,
     "sourceType": "datasetVersion"
    }
   ],
   "dockerImageVersionId": 30787,
   "isGpuEnabled": false,
   "isInternetEnabled": true,
   "language": "python",
   "sourceType": "notebook"
  },
  "kernelspec": {
   "display_name": "Python 3 (ipykernel)",
   "language": "python",
   "name": "python3"
  },
  "language_info": {
   "codemirror_mode": {
    "name": "ipython",
    "version": 3
   },
   "file_extension": ".py",
   "mimetype": "text/x-python",
   "name": "python",
   "nbconvert_exporter": "python",
   "pygments_lexer": "ipython3",
   "version": "3.11.2"
  }
 },
 "nbformat": 4,
 "nbformat_minor": 4
}
